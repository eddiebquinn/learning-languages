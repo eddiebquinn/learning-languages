{
 "cells": [
  {
   "cell_type": "markdown",
   "id": "5c7f1633",
   "metadata": {},
   "source": [
    "# Operators\n",
    "Operators are used to manipulate data into expressions, these expressions can be passed into logic trees and help made algorythms. In JS there a few main types of operators, all of which are listed and explaied in the headings below."
   ]
  },
  {
   "cell_type": "markdown",
   "id": "bfe83d2a",
   "metadata": {},
   "source": [
    "## Arithmetic\n",
    "Arithemtic operators are used for performing calulations, and operate simmilar to python operators. In javascript when to variables are used together in conjunction with an operator, this is called an expression."
   ]
  },
  {
   "cell_type": "code",
   "execution_count": 1,
   "id": "016b1770",
   "metadata": {},
   "outputs": [],
   "source": [
    "let Ax = 10;\n",
    "let Ay = 3;"
   ]
  },
  {
   "cell_type": "markdown",
   "id": "e78d0f15",
   "metadata": {},
   "source": [
    "### The basic ones\n",
    "I wont go into much detail here, these are basic operators and are the same as python"
   ]
  },
  {
   "cell_type": "code",
   "execution_count": 2,
   "id": "a3872877",
   "metadata": {},
   "outputs": [
    {
     "name": "stdout",
     "output_type": "stream",
     "text": [
      "13\n",
      "7\n",
      "30\n",
      "3.3333333333333335\n",
      "1\n",
      "1000\n"
     ]
    }
   ],
   "source": [
    "console.log(Ax + Ay);  // Addition\n",
    "console.log(Ax - Ay);  // Subtraction\n",
    "console.log(Ax * Ay);  // Multiplication\n",
    "console.log(Ax / Ay);  // Division\n",
    "console.log(Ax % Ay);  // Moduleo\n",
    "console.log(Ax ** Ay); // Power"
   ]
  },
  {
   "cell_type": "markdown",
   "id": "f8afc6ff",
   "metadata": {},
   "source": [
    "### Incriment/Decriment\n",
    "Increment/Decriment operators incriment and decriment the value of a variable by one. This is demonstrated below. Notice how the position of the operator chanes how the variable is logged to the console - `++` before the variable causes it to be incrimented by 1 and then logged, where as if it is after the opposite occours"
   ]
  },
  {
   "cell_type": "code",
   "execution_count": 3,
   "id": "71cb9e58",
   "metadata": {},
   "outputs": [],
   "source": [
    "function incriment_demo(){\n",
    "    console.log(\"Orginal value:\" + Ax);\n",
    "    console.log(\"1:\" + ++Ax);\n",
    "    console.log(\"2:\" + Ax++);\n",
    "    console.log(\"Ending value:\" + Ax);\n",
    "}"
   ]
  },
  {
   "cell_type": "code",
   "execution_count": 4,
   "id": "bd275e65",
   "metadata": {},
   "outputs": [
    {
     "name": "stdout",
     "output_type": "stream",
     "text": [
      "Orginal value:10\n",
      "1:11\n",
      "2:11\n",
      "Ending value:12\n"
     ]
    }
   ],
   "source": [
    "incriment_demo()"
   ]
  },
  {
   "cell_type": "markdown",
   "id": "4d72c24b",
   "metadata": {},
   "source": [
    "## Assignment\n",
    "I have already worked with Assignment Operators when i assigned variables. The `=` in `let x = 10;` is an example of an assignment operator.There are a few more however."
   ]
  },
  {
   "cell_type": "markdown",
   "id": "fc88211e",
   "metadata": {},
   "source": [
    "### `+=`, `-=`, `*=`\n",
    "Ive already explained the incriment operator of `++` - `x++;` does the exact same thing as as `x = x+1;`. However say we wanted to do `x = x+5;` in a simmilar way, for that we would use `+=`."
   ]
  },
  {
   "cell_type": "code",
   "execution_count": 5,
   "id": "e51a59d0",
   "metadata": {},
   "outputs": [],
   "source": [
    "let Bx = 10;\n",
    "\n",
    "function plusEqualsDemo(){\n",
    "    console.log(\"Original vale:\" + Bx);\n",
    "    Bx += 5;\n",
    "    console.log(\"New value:\" + Bx);\n",
    "}"
   ]
  },
  {
   "cell_type": "code",
   "execution_count": 6,
   "id": "527866fc",
   "metadata": {},
   "outputs": [
    {
     "name": "stdout",
     "output_type": "stream",
     "text": [
      "Original vale:10\n",
      "New value:15\n"
     ]
    }
   ],
   "source": [
    "plusEqualsDemo();"
   ]
  },
  {
   "cell_type": "markdown",
   "id": "c3e47c7a",
   "metadata": {},
   "source": [
    "This works for other types of Arithmetic operators also"
   ]
  },
  {
   "cell_type": "markdown",
   "id": "e6420b91",
   "metadata": {},
   "source": [
    "## Comparison & Equality\n",
    "These are used to compared the value of an operator to another."
   ]
  },
  {
   "cell_type": "code",
   "execution_count": 7,
   "id": "1370dd68",
   "metadata": {},
   "outputs": [],
   "source": [
    "let Cx = 10;\n",
    "let Cb = 5;\n",
    "\n",
    "function comparisonDemo(){\n",
    "    console.log(Cx > Cb);\n",
    "    console.log(Cx >= Cb);\n",
    "    console.log(Cx < Cb);\n",
    "    console.log(Cx <= Cb);\n",
    "    \n",
    "}"
   ]
  },
  {
   "cell_type": "code",
   "execution_count": 8,
   "id": "2a51610e",
   "metadata": {},
   "outputs": [
    {
     "name": "stdout",
     "output_type": "stream",
     "text": [
      "true\n",
      "true\n",
      "false\n",
      "false\n"
     ]
    }
   ],
   "source": [
    "comparisonDemo();"
   ]
  },
  {
   "cell_type": "markdown",
   "id": "dfbe605c",
   "metadata": {},
   "source": [
    "As can be seen, when comparing the two values the result is a bool type variable. These four `<`,`<=`,`>`,`>=`are known as comparison variables. You do also have quality operators which see if a value is equal or not. These work in a simmilar way, and are either `!==` or `===`."
   ]
  },
  {
   "cell_type": "code",
   "execution_count": 9,
   "id": "9517601b",
   "metadata": {},
   "outputs": [],
   "source": [
    "function equalityDemo(){\n",
    "    console.log(Cx === Cb);\n",
    "    console.log(Cx !== Cb);\n",
    "}"
   ]
  },
  {
   "cell_type": "code",
   "execution_count": 10,
   "id": "0065c3ab",
   "metadata": {},
   "outputs": [
    {
     "name": "stdout",
     "output_type": "stream",
     "text": [
      "false\n",
      "true\n"
     ]
    }
   ],
   "source": [
    "equalityDemo()"
   ]
  },
  {
   "cell_type": "markdown",
   "id": "39b27e5d",
   "metadata": {},
   "source": [
    "There is another type of equality operator. `!==` and `===` in JS are refered to as 'strict equality operators', however there is a 'loose equality operator' which is `==`. Strict equality operators esnure that the two variables being compared have the same type and value, while loose only focuses on value. This is shown below"
   ]
  },
  {
   "cell_type": "code",
   "execution_count": 11,
   "id": "39646c22",
   "metadata": {},
   "outputs": [],
   "source": [
    "let Cf = 1;\n",
    "let Cg = '1';\n",
    "let Ch = true;\n",
    "\n",
    "function strictVloose(){\n",
    "    console.log(\"Strict\");\n",
    "    console.log(Cf === Cg);\n",
    "    console.log(Cf === Ch);\n",
    "    \n",
    "    console.log(\"Loose\");\n",
    "    console.log(Cf == Cg);\n",
    "    console.log(Cf == Ch)\n",
    "}"
   ]
  },
  {
   "cell_type": "code",
   "execution_count": 12,
   "id": "28d06635",
   "metadata": {},
   "outputs": [
    {
     "name": "stdout",
     "output_type": "stream",
     "text": [
      "Strict\n",
      "false\n",
      "false\n",
      "Loose\n",
      "true\n",
      "true\n"
     ]
    }
   ],
   "source": [
    "strictVloose();"
   ]
  },
  {
   "cell_type": "markdown",
   "id": "89b0e7f7",
   "metadata": {},
   "source": [
    "## Ternary Operators\n",
    "Ternary operators operate the same way as a python `x = True if y=10 else False` string. JS does it with the `?` symbol however. The below code sets the type to gold if points is more than 100, otherwise it sets it to silver"
   ]
  },
  {
   "cell_type": "code",
   "execution_count": 13,
   "id": "6ef8266b",
   "metadata": {},
   "outputs": [
    {
     "name": "stdout",
     "output_type": "stream",
     "text": [
      "silver\n"
     ]
    }
   ],
   "source": [
    "let points = 100;\n",
    "let type = points > 100 ? 'gold':'silver';\n",
    "\n",
    "console.log(type);"
   ]
  },
  {
   "cell_type": "markdown",
   "id": "b295004d",
   "metadata": {},
   "source": [
    "## Logical\n",
    "Logical operators are used to make decisions in algorythms, in JS they are and or and not. I know how these work from maths so im not going to do a code block, im just going to label what they are\n",
    "\n",
    "- AND is `&&`\n",
    "- OR is `||`\n",
    "- NOT is `!`\n",
    "\n",
    "JS has a weird quirk, unlike most other PL's, where you can use non-bool variables with logical operators. This is shown below"
   ]
  },
  {
   "cell_type": "code",
   "execution_count": 14,
   "id": "998148fd",
   "metadata": {},
   "outputs": [],
   "source": [
    "function logic(){\n",
    "    console.log(false || true);\n",
    "    console.log(false || 'eddie');\n",
    "    console.log(false || 1);\n",
    "}"
   ]
  },
  {
   "cell_type": "code",
   "execution_count": 15,
   "id": "91c66b30",
   "metadata": {},
   "outputs": [
    {
     "name": "stdout",
     "output_type": "stream",
     "text": [
      "true\n",
      "eddie\n",
      "1\n"
     ]
    }
   ],
   "source": [
    "logic()"
   ]
  },
  {
   "cell_type": "markdown",
   "id": "8a82b515",
   "metadata": {},
   "source": [
    "When JS doesnt have a bool to run through logical operators, it uses establishes if the other variable is truthy or falsy. Falsey variables are actual an umbrella term for values that could be false, of which the following are part of\n",
    "\n",
    "- undefined\n",
    "- null\n",
    "- 0\n",
    "- false\n",
    "- ''\n",
    "- NaN\n",
    "\n",
    "Everything else is truthy.\n",
    "\n",
    "It is also important to understand that when JS handles logical operators it does it left to right - meaning whenever it finds a value that satifies the contiion it will return that value. For example the code below will return `2`"
   ]
  },
  {
   "cell_type": "code",
   "execution_count": 16,
   "id": "53b43689",
   "metadata": {},
   "outputs": [
    {
     "name": "stdout",
     "output_type": "stream",
     "text": [
      "2\n"
     ]
    }
   ],
   "source": [
    "console.log(false || 2 || 1);"
   ]
  },
  {
   "cell_type": "markdown",
   "id": "d5580648",
   "metadata": {},
   "source": [
    "## Bitwise\n",
    "Humans use decimal system to deal with numbers, however computers use binary. Bitwise operators compare values using the decimal system. An example is shown below."
   ]
  },
  {
   "cell_type": "code",
   "execution_count": 18,
   "id": "65826fc5",
   "metadata": {},
   "outputs": [
    {
     "name": "stdout",
     "output_type": "stream",
     "text": [
      "3\n"
     ]
    }
   ],
   "source": [
    "console.log(1 | 2);\n",
    "\n",
    "// This will compare the values on a binary level, if the value is zero it will stay zero, if\n",
    "// its one then it will become one. This works using OR logic.\n",
    "\n",
    "// DEC 1 = BIN 00000001\n",
    "// DEC 2 = BIN 00000010\n",
    "\n",
    "// DEC R = BIN 00000011\n",
    "// DEC 3 = BIN 00000011\n",
    "\n"
   ]
  },
  {
   "cell_type": "markdown",
   "id": "e692781a",
   "metadata": {},
   "source": [
    "The same process happens for and, which in bitwise is `&`"
   ]
  }
 ],
 "metadata": {
  "kernelspec": {
   "display_name": "JavaScript (Node.js)",
   "language": "javascript",
   "name": "javascript"
  },
  "language_info": {
   "file_extension": ".js",
   "mimetype": "application/javascript",
   "name": "javascript",
   "version": "18.10.0"
  }
 },
 "nbformat": 4,
 "nbformat_minor": 5
}
