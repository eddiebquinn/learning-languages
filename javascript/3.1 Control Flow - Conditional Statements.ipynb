{
 "cells": [
  {
   "cell_type": "markdown",
   "id": "687eb544",
   "metadata": {},
   "source": [
    "# Conditional statements\n",
    "In JS there are two types of conditional statements. Both have their own subheadings below "
   ]
  },
  {
   "cell_type": "markdown",
   "id": "5559d1e9",
   "metadata": {},
   "source": [
    "### `if` and `else`\n",
    "\n",
    "Say we want to write code that gives you a different greeting depending on the time of day. i.e.\n",
    "- \"Good morning\" between 6am-12pm\n",
    "- \"Good afternoon\" between 12pm and 6pm\n",
    "- \"Good evening\" btween 6pm and 6am\n",
    "for this we would use `if` and `else`"
   ]
  },
  {
   "cell_type": "code",
   "execution_count": 1,
   "id": "a8012ba9",
   "metadata": {},
   "outputs": [],
   "source": [
    "function timeGreeting(time){\n",
    "    let greeting = null;\n",
    "    if (time >=6 && time < 12){\n",
    "        greeting = \"Good morning\";\n",
    "    }\n",
    "    else if  (time >= 12 && time < 18){\n",
    "        greeting = \"Good afternoon\";\n",
    "    }\n",
    "    else {\n",
    "        greeting = \"Good evening\";\n",
    "    }\n",
    "    console.log(greeting);\n",
    "}"
   ]
  },
  {
   "cell_type": "code",
   "execution_count": 2,
   "id": "878d70d9",
   "metadata": {},
   "outputs": [
    {
     "name": "stdout",
     "output_type": "stream",
     "text": [
      "Good morning\n",
      "Good afternoon\n",
      "Good evening\n"
     ]
    }
   ],
   "source": [
    "timeGreeting(10);\n",
    "timeGreeting(13);\n",
    "timeGreeting(2);"
   ]
  },
  {
   "cell_type": "markdown",
   "id": "50afc502",
   "metadata": {},
   "source": [
    "It is worth noting that in the code block of a conditional statement, i.e. the `{}`, if it is only one line then you do not need the brackets. I included them more to demonstrate they *should* be there"
   ]
  },
  {
   "cell_type": "markdown",
   "id": "931d07b4",
   "metadata": {},
   "source": [
    "### `switch` and `case`\n",
    "This is fundementally simmilar to `if` and `else`."
   ]
  },
  {
   "cell_type": "code",
   "execution_count": 3,
   "id": "4bb86762",
   "metadata": {},
   "outputs": [],
   "source": [
    "// Just let it be known that I hate this code, but i couldnt think of anything better.\n",
    "\n",
    "function determineRole(roleEnum){\n",
    "    \n",
    "    let insert_string = null; \n",
    "    switch(roleEnum){\n",
    "        case 1:\n",
    "            insert_string = 'guest';\n",
    "            break;\n",
    "        case 2:\n",
    "            insert_string = 'moderator';\n",
    "            break;\n",
    "        case 3:\n",
    "            insert_string = 'admin';\n",
    "            break;\n",
    "        default:\n",
    "            insert_string = 'invalid enum inserted';\n",
    "    }\n",
    "    console.log(insert_string);\n",
    "}"
   ]
  },
  {
   "cell_type": "code",
   "execution_count": 4,
   "id": "726449e7",
   "metadata": {},
   "outputs": [
    {
     "name": "stdout",
     "output_type": "stream",
     "text": [
      "guest\n",
      "moderator\n",
      "admin\n",
      "invalid enum inserted\n"
     ]
    }
   ],
   "source": [
    "determineRole(1);\n",
    "determineRole(2);\n",
    "determineRole(3);\n",
    "determineRole(4);"
   ]
  },
  {
   "cell_type": "markdown",
   "id": "0201bbf7",
   "metadata": {},
   "source": [
    "Notice that after the end of a case statement there is `break`. This is so the code does not move onto the next case statement, this is also why we dont need a break after the default statement. This is at the end of the logic block making the `break;` redundant. This does have a benefit over `if/else` as i will show below."
   ]
  },
  {
   "cell_type": "code",
   "execution_count": 5,
   "id": "f61f6ba3",
   "metadata": {},
   "outputs": [],
   "source": [
    "function ab(letter){\n",
    "    \n",
    "    switch(letter){\n",
    "        case \"a\":\n",
    "            console.log(\"Condition 'A' met\");\n",
    "        case \"b\":\n",
    "            console.log(\"Condition 'B' met\");\n",
    "            break;\n",
    "        default:\n",
    "            console.log(\"invalid condition\");\n",
    "    }\n",
    "}"
   ]
  },
  {
   "cell_type": "code",
   "execution_count": 6,
   "id": "c96f0378",
   "metadata": {},
   "outputs": [
    {
     "name": "stdout",
     "output_type": "stream",
     "text": [
      "-----\n",
      "Condition 'A' met\n",
      "Condition 'B' met\n",
      "-----\n",
      "Condition 'B' met\n",
      "-----\n",
      "invalid condition\n",
      "-----\n"
     ]
    }
   ],
   "source": [
    "console.log(\"-----\");\n",
    "ab(\"a\");\n",
    "console.log(\"-----\");\n",
    "ab(\"b\");\n",
    "console.log(\"-----\");\n",
    "ab(\"c\");\n",
    "console.log(\"-----\");"
   ]
  },
  {
   "cell_type": "markdown",
   "id": "64cb08f0",
   "metadata": {},
   "source": [
    "Because no `break` was done in A, it meant that if a was inserted into the function then both A and B happened."
   ]
  }
 ],
 "metadata": {
  "kernelspec": {
   "display_name": "JavaScript (Node.js)",
   "language": "javascript",
   "name": "javascript"
  },
  "language_info": {
   "file_extension": ".js",
   "mimetype": "application/javascript",
   "name": "javascript",
   "version": "18.10.0"
  }
 },
 "nbformat": 4,
 "nbformat_minor": 5
}
