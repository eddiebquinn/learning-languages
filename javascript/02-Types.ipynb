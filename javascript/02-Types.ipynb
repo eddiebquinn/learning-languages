{
 "cells": [
  {
   "cell_type": "markdown",
   "id": "ea6f43fb",
   "metadata": {},
   "source": [
    "# Types\n",
    "\n",
    "There are two categories of types in JS\n",
    "- Primative\n",
    "- Refrences \n",
    "\n",
    "One thing that seperates JS from other coding langauges is that it is a dynamic langauge, as opposed to static. The diffrence between the two is static langauge have variables set to a certain type and that type is immetuable. Dynamic languages allow you to change the type. This is shown below"
   ]
  },
  {
   "cell_type": "code",
   "execution_count": 1,
   "id": "579623a1",
   "metadata": {},
   "outputs": [
    {
     "name": "stdout",
     "output_type": "stream",
     "text": [
      "string\n",
      "number\n"
     ]
    }
   ],
   "source": [
    "let firstName = \"eddie\";\n",
    "console.log(typeof(firstName));\n",
    "firstName = 0;\n",
    "console.log(typeof(firstName));"
   ]
  },
  {
   "cell_type": "markdown",
   "id": "289893d9",
   "metadata": {},
   "source": [
    "## Primative types\n"
   ]
  },
  {
   "cell_type": "code",
   "execution_count": 2,
   "id": "e3243ac3",
   "metadata": {},
   "outputs": [],
   "source": [
    "// STRING - This is a string literal\n",
    "let name = \"Eddie\";"
   ]
  },
  {
   "cell_type": "code",
   "execution_count": 3,
   "id": "d5c74835",
   "metadata": {},
   "outputs": [],
   "source": [
    "// NUMBER - This is a number literal\n",
    "let age = \"24\";"
   ]
  },
  {
   "cell_type": "code",
   "execution_count": 4,
   "id": "68f720f3",
   "metadata": {},
   "outputs": [],
   "source": [
    "// BOOLEAN - This is a boolean literal\n",
    "let male = true;"
   ]
  },
  {
   "cell_type": "code",
   "execution_count": 5,
   "id": "1411d563",
   "metadata": {},
   "outputs": [],
   "source": [
    "// UNDEFINED - There are two ways to make an undefined variable\n",
    "let undefined_variable1;\n",
    "let undefined_varable2 = undefined;"
   ]
  },
  {
   "cell_type": "code",
   "execution_count": 6,
   "id": "2754cbd7",
   "metadata": {},
   "outputs": [],
   "source": [
    "//NULL - NULL is used to clear the value of a variable\n",
    "let null_variable = null;"
   ]
  },
  {
   "cell_type": "markdown",
   "id": "1c8a2af2",
   "metadata": {},
   "source": [
    "## Refrence types\n",
    "Refrences types include\n",
    "- Objects\n",
    "- Arrays\n",
    "- Functions"
   ]
  },
  {
   "cell_type": "markdown",
   "id": "89105827",
   "metadata": {},
   "source": [
    "### Objects\n",
    "Objects in JS are like objects in real life. If we try to conceptualise this as a person IRL, a person has a name, age, address, sex, etc. These the attributes/properties of that person, and the same thing can be sone for objects in JS. Objects are a way to bind together multiple related variables, in a tidy way.\n",
    "\n",
    "Earlier on this this note we initalised the variables `name`, `age`, and `male`. This can be seen below"
   ]
  },
  {
   "cell_type": "code",
   "execution_count": 7,
   "id": "6bc48785",
   "metadata": {},
   "outputs": [
    {
     "name": "stdout",
     "output_type": "stream",
     "text": [
      "Eddie\n",
      "24\n",
      "true\n"
     ]
    }
   ],
   "source": [
    "console.log(name);\n",
    "console.log(age);\n",
    "console.log(male);"
   ]
  },
  {
   "cell_type": "markdown",
   "id": "824a4439",
   "metadata": {},
   "source": [
    "This is a good usecase for an object, as these variables are all refering to the same person and can be lumped together.\n",
    "\n",
    "We do this by intialising an object literal with `{}`. Then between those `{}` we would add one or more key value pair, the syntax being more or less the same as a python dictionary"
   ]
  },
  {
   "cell_type": "code",
   "execution_count": 8,
   "id": "9f01a1a2",
   "metadata": {},
   "outputs": [],
   "source": [
    "let person = {\n",
    "    name: \"eddie\",\n",
    "    age: 24,\n",
    "    male:true\n",
    "};"
   ]
  },
  {
   "cell_type": "markdown",
   "id": "610e8fe9",
   "metadata": {},
   "source": [
    "We are now able to log this new person onto the console"
   ]
  },
  {
   "cell_type": "code",
   "execution_count": 9,
   "id": "3ebb217d",
   "metadata": {},
   "outputs": [
    {
     "name": "stdout",
     "output_type": "stream",
     "text": [
      "{ name: 'eddie', age: 24, male: true }\n"
     ]
    }
   ],
   "source": [
    "console.log(person);"
   ]
  },
  {
   "cell_type": "markdown",
   "id": "e99ee5a0",
   "metadata": {},
   "source": [
    "As can be this, one key value pairs were logged to the console."
   ]
  },
  {
   "cell_type": "markdown",
   "id": "6c01ca35",
   "metadata": {},
   "source": [
    "There are a few ways that we can accsess these properties, for example say we want to change the age of this person because its their birthday. There are two ways:\n",
    "- dot notation - This can be used to either update or read the value\n",
    "- bracket notation - This can only be used to update the value"
   ]
  },
  {
   "cell_type": "code",
   "execution_count": 10,
   "id": "d6e98630",
   "metadata": {},
   "outputs": [
    {
     "name": "stdout",
     "output_type": "stream",
     "text": [
      "25\n",
      "edward\n"
     ]
    }
   ],
   "source": [
    "// Dot notation\n",
    "person.age = 25;\n",
    "console.log(person.age);\n",
    "\n",
    "// bracket notation\n",
    "person[\"name\"] = \"edward\";\n",
    "console.log(person.name);"
   ]
  },
  {
   "cell_type": "markdown",
   "id": "fa8f9182",
   "metadata": {},
   "source": [
    "While dot notion alows for less blocky code, bracket notation does have its use. It allows us to abrastc the value we want to get from the object, an example is shown below"
   ]
  },
  {
   "cell_type": "code",
   "execution_count": 11,
   "id": "e315c368",
   "metadata": {},
   "outputs": [
    {
     "name": "stdout",
     "output_type": "stream",
     "text": [
      "true\n",
      "false\n"
     ]
    }
   ],
   "source": [
    "console.log(person.male);\n",
    "\n",
    "let selection = 'male';\n",
    "person[selection] = false\n",
    "\n",
    "console.log(person.male);"
   ]
  },
  {
   "cell_type": "markdown",
   "id": "19071f2a",
   "metadata": {},
   "source": [
    "### Arrays\n",
    "Arrays function simmilar to lists in python, as in they let you put multiple variables or values together in one variable\n",
    "\n",
    "Below we initalise a variable called colours into an array literal"
   ]
  },
  {
   "cell_type": "code",
   "execution_count": 1,
   "id": "4a147b55",
   "metadata": {},
   "outputs": [
    {
     "name": "stdout",
     "output_type": "stream",
     "text": [
      "[ 'red', 'blue' ]\n"
     ]
    }
   ],
   "source": [
    "let colours = ['red', 'blue'];\n",
    "console.log(colours);"
   ]
  },
  {
   "cell_type": "markdown",
   "id": "286d827d",
   "metadata": {},
   "source": [
    "Now each of the entries into the array above would have it's own index, which coresponds to its position inside the array. Like most coding languages, in JS you could from zero. This means `red` would have an index of 0, and `blue` would have an index of 1. These index's are how we accsess an elemnt in the array."
   ]
  },
  {
   "cell_type": "code",
   "execution_count": 2,
   "id": "957710d2",
   "metadata": {},
   "outputs": [
    {
     "name": "stdout",
     "output_type": "stream",
     "text": [
      "red\n"
     ]
    }
   ],
   "source": [
    "console.log(colours[0]);"
   ]
  },
  {
   "cell_type": "markdown",
   "id": "cb7ed21d",
   "metadata": {},
   "source": [
    "As mentioned at the start of this note, JS is a dynamic langauges, so all of the elements in this array can be changed at runtime. We can add, remove, and even edit the entries in this array."
   ]
  },
  {
   "cell_type": "code",
   "execution_count": 4,
   "id": "97f97b10",
   "metadata": {},
   "outputs": [
    {
     "name": "stdout",
     "output_type": "stream",
     "text": [
      "[ 'red', 'blue', 'green' ]\n",
      "[ 'red', 2, 'green' ]\n"
     ]
    }
   ],
   "source": [
    "colours[2] = \"green\";\n",
    "console.log(colours);\n",
    "\n",
    "colours[1]= 2;\n",
    "console.log(colours);"
   ]
  },
  {
   "cell_type": "markdown",
   "id": "0319685f",
   "metadata": {},
   "source": [
    "Technically an array is also a type of oject, meaning all of the items in the array can be accsessed with dot notation. "
   ]
  },
  {
   "cell_type": "code",
   "execution_count": 5,
   "id": "8636973b",
   "metadata": {},
   "outputs": [
    {
     "name": "stdout",
     "output_type": "stream",
     "text": [
      "object\n"
     ]
    }
   ],
   "source": [
    "console.log(typeof(colours));"
   ]
  },
  {
   "cell_type": "markdown",
   "id": "a31a0e4e",
   "metadata": {},
   "source": [
    "This means we can perform special functions on this attribute like `length` which gives us the length of the array"
   ]
  },
  {
   "cell_type": "code",
   "execution_count": 6,
   "id": "dc7cc5d6",
   "metadata": {},
   "outputs": [
    {
     "name": "stdout",
     "output_type": "stream",
     "text": [
      "3\n"
     ]
    }
   ],
   "source": [
    "console.log(colours.length);"
   ]
  },
  {
   "cell_type": "code",
   "execution_count": null,
   "id": "1484a27c",
   "metadata": {},
   "outputs": [],
   "source": []
  }
 ],
 "metadata": {
  "kernelspec": {
   "display_name": "JavaScript (Node.js)",
   "language": "javascript",
   "name": "javascript"
  },
  "language_info": {
   "file_extension": ".js",
   "mimetype": "application/javascript",
   "name": "javascript",
   "version": "18.10.0"
  }
 },
 "nbformat": 4,
 "nbformat_minor": 5
}
