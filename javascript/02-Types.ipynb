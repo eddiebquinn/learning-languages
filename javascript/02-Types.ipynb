{
 "cells": [
  {
   "cell_type": "markdown",
   "id": "ea6f43fb",
   "metadata": {},
   "source": [
    "# Types\n",
    "\n",
    "There are two categories of types in JS\n",
    "- Primative\n",
    "- foo bar"
   ]
  },
  {
   "cell_type": "markdown",
   "id": "289893d9",
   "metadata": {},
   "source": [
    "## Primative types\n"
   ]
  },
  {
   "cell_type": "code",
   "execution_count": 1,
   "id": "e3243ac3",
   "metadata": {},
   "outputs": [],
   "source": [
    "// STRING - This is a string literal\n",
    "let name = \"Eddie\";"
   ]
  },
  {
   "cell_type": "code",
   "execution_count": 2,
   "id": "d5c74835",
   "metadata": {},
   "outputs": [],
   "source": [
    "// NUMBER - This is a number literal\n",
    "let age = \"24\";"
   ]
  },
  {
   "cell_type": "code",
   "execution_count": 3,
   "id": "68f720f3",
   "metadata": {},
   "outputs": [],
   "source": [
    "// BOOLEAN - This is a boolean literal\n",
    "let male = true;"
   ]
  },
  {
   "cell_type": "code",
   "execution_count": 4,
   "id": "1411d563",
   "metadata": {},
   "outputs": [],
   "source": [
    "// UNDEFINED - There are two ways to make an undefined variable\n",
    "let undefined_variable1;\n",
    "let undefined_varable2 = undefined;"
   ]
  },
  {
   "cell_type": "code",
   "execution_count": 5,
   "id": "2754cbd7",
   "metadata": {},
   "outputs": [],
   "source": [
    "//NULL - NULL is used to clear the value of a variable\n",
    "let null_variable = null;"
   ]
  },
  {
   "cell_type": "markdown",
   "id": "96d31add",
   "metadata": {},
   "source": [
    "## Dynamic types\n",
    "One thing that seperates JS from other coding langauges is that it is a dynamic langauge, as opposed to static. The diffrence between the two is static langauge have variables set to a certain type and that type is immetuable. Dynamic languages allow you to change the type\n",
    "\n",
    "This is shown below"
   ]
  },
  {
   "cell_type": "code",
   "execution_count": 6,
   "id": "0d0b7e2c",
   "metadata": {},
   "outputs": [
    {
     "name": "stdout",
     "output_type": "stream",
     "text": [
      "string\n",
      "number\n"
     ]
    }
   ],
   "source": [
    "let firstName = \"eddie\";\n",
    "console.log(typeof(firstName));\n",
    "firstName = 0;\n",
    "console.log(typeof(firstName));"
   ]
  },
  {
   "cell_type": "code",
   "execution_count": null,
   "id": "20426f84",
   "metadata": {},
   "outputs": [],
   "source": []
  }
 ],
 "metadata": {
  "kernelspec": {
   "display_name": "JavaScript (Node.js)",
   "language": "javascript",
   "name": "javascript"
  },
  "language_info": {
   "file_extension": ".js",
   "mimetype": "application/javascript",
   "name": "javascript",
   "version": "12.22.9"
  }
 },
 "nbformat": 4,
 "nbformat_minor": 5
}
