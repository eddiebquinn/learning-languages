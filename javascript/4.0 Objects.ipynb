{
 "cells": [
  {
   "cell_type": "markdown",
   "id": "f693beed",
   "metadata": {},
   "source": [
    "# Objects\n",
    "Objects are collection of key value pairs, when you have a set of variables are highly related you will want to group them together into one object. An example of this is shown below"
   ]
  },
  {
   "cell_type": "code",
   "execution_count": 1,
   "id": "99ed2967",
   "metadata": {},
   "outputs": [],
   "source": [
    "let c_radius = 1;\n",
    "let x = 1;\n",
    "let y = 1;"
   ]
  },
  {
   "cell_type": "markdown",
   "id": "0f2d5aba",
   "metadata": {},
   "source": [
    "All of the above variables *can* be put into seperate variables, however given they are all directly related to a circle, it makes more sense to group them into one object called \"circle\""
   ]
  },
  {
   "cell_type": "code",
   "execution_count": 2,
   "id": "dd7ea324",
   "metadata": {},
   "outputs": [],
   "source": [
    "let circle = {\n",
    "    radius: 1,\n",
    "    location: {\n",
    "        x:1,\n",
    "        y:1}\n",
    "};"
   ]
  },
  {
   "cell_type": "markdown",
   "id": "c40bc10a",
   "metadata": {},
   "source": [
    "Another important thing to note about Objects is that while you can group together variables, allot of the time you will want functions that can work on these variables. For example in out circle object we may want a function that moves the location called `move()`. We can make it a stand alone function, but given it directly operates on this object it makes more sense to embed it"
   ]
  },
  {
   "cell_type": "code",
   "execution_count": 3,
   "id": "70166bba",
   "metadata": {},
   "outputs": [],
   "source": [
    "let square = {\n",
    "    size: 1,\n",
    "    location: {\n",
    "        x:1,\n",
    "        y:1\n",
    "    },\n",
    "    draw: function draw() {\n",
    "        console.log(\"This would be a picture of the square\");\n",
    "    }\n",
    "};"
   ]
  },
  {
   "cell_type": "code",
   "execution_count": 4,
   "id": "ef4a08c6",
   "metadata": {},
   "outputs": [
    {
     "name": "stdout",
     "output_type": "stream",
     "text": [
      "This would be a picture of the square\n"
     ]
    }
   ],
   "source": [
    "square.draw();"
   ]
  },
  {
   "cell_type": "markdown",
   "id": "2ce76c9e",
   "metadata": {},
   "source": [
    "This is just an expanded knoweldge on what I have already made notes on, however this method of making objects so far is how you make an `object literal` object. There are better ways to do it, and this is what this section will cover."
   ]
  },
  {
   "cell_type": "markdown",
   "id": "a8bf56bc",
   "metadata": {},
   "source": [
    "## Factory and Constructor functions\n",
    "Created object literal type objects is a quick and dirty way to do it, but it presents a problem (which i ran into in the previous section).\n",
    "\n",
    "Lets suppose I want to make two circle objects, i can copy the code but this isnt not a good way to do it. It breaks one of the fundemental rules of coding which is \"Don't Repeat Yourself\". This is where factory & constructor functions come in."
   ]
  },
  {
   "cell_type": "markdown",
   "id": "a5eaa5a7",
   "metadata": {},
   "source": [
    "### Factory functions\n",
    "A factory function is a function that produces an object. An example is shown below"
   ]
  },
  {
   "cell_type": "code",
   "execution_count": 5,
   "id": "75e31f86",
   "metadata": {},
   "outputs": [],
   "source": [
    "function createCircle(radius=1) {   \n",
    "    return {\n",
    "        // In JS if the key and value are the same you can just put the key, this translates to radius:radius\n",
    "        radius, \n",
    "        \n",
    "        // Simmilar can be done for the draw function, as shown below, we simply drop the key and function keyword\n",
    "        draw () {\n",
    "            console.log(\"draw\");\n",
    "        }\n",
    "    };\n",
    "}"
   ]
  },
  {
   "cell_type": "markdown",
   "id": "c84d0b1a",
   "metadata": {},
   "source": [
    "Now we have a fcatory function, we can call this to create a cricle"
   ]
  },
  {
   "cell_type": "code",
   "execution_count": 6,
   "id": "b541097a",
   "metadata": {},
   "outputs": [
    {
     "name": "stdout",
     "output_type": "stream",
     "text": [
      "draw\n"
     ]
    }
   ],
   "source": [
    "const factory_circle = createCircle();\n",
    "factory_circle.draw();"
   ]
  },
  {
   "cell_type": "markdown",
   "id": "24609c01",
   "metadata": {},
   "source": [
    "### Constructor functions\n",
    "Constructor functions are the other key way to create objects in JS. Example is shown below."
   ]
  },
  {
   "cell_type": "code",
   "execution_count": 9,
   "id": "f6641284",
   "metadata": {},
   "outputs": [],
   "source": [
    "// The naming convetion for constructor functions is diffrent from factory functions.\n",
    "// We write it is pascal case rather than camel\n",
    "\n",
    "function Circle(radius=1) {\n",
    "    \n",
    "    // This is a refrence to the object that is exectuing this peice of code\n",
    "    this.radius = radius;\n",
    "    this.draw = function () {\n",
    "        console.log('draw');\n",
    "    }\n",
    "}"
   ]
  },
  {
   "cell_type": "code",
   "execution_count": 11,
   "id": "d851ce82",
   "metadata": {},
   "outputs": [
    {
     "name": "stdout",
     "output_type": "stream",
     "text": [
      "draw\n"
     ]
    }
   ],
   "source": [
    "const Con_circle = new Circle(1);\n",
    "Con_circle.draw();"
   ]
  },
  {
   "cell_type": "code",
   "execution_count": null,
   "id": "fbb3f552",
   "metadata": {},
   "outputs": [],
   "source": []
  }
 ],
 "metadata": {
  "kernelspec": {
   "display_name": "JavaScript (Node.js)",
   "language": "javascript",
   "name": "javascript"
  },
  "language_info": {
   "file_extension": ".js",
   "mimetype": "application/javascript",
   "name": "javascript",
   "version": "18.7.0"
  }
 },
 "nbformat": 4,
 "nbformat_minor": 5
}
