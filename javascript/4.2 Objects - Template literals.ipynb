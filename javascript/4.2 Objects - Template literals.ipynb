{
 "cells": [
  {
   "cell_type": "markdown",
   "id": "b80366aa",
   "metadata": {},
   "source": [
    "# Template literals\n",
    "In JS strings are a form of object, and can be manipulated as such. I won't write out all the methods for that here, because there is a whole web page for JS-Strings documentation. However when making strings you have a few ways to do it."
   ]
  },
  {
   "cell_type": "markdown",
   "id": "78bc3476",
   "metadata": {},
   "source": [
    "The most basic way to make a strings is shown below"
   ]
  },
  {
   "cell_type": "code",
   "execution_count": 1,
   "id": "7a21ea51",
   "metadata": {},
   "outputs": [],
   "source": [
    "let name = \"Eddie\";\n",
    "let basicString = \"Hello \" + name;"
   ]
  },
  {
   "cell_type": "code",
   "execution_count": 2,
   "id": "b44dfbcd",
   "metadata": {},
   "outputs": [
    {
     "name": "stdout",
     "output_type": "stream",
     "text": [
      "Hello Eddie\n"
     ]
    }
   ],
   "source": [
    "console.log(basicString);"
   ]
  },
  {
   "cell_type": "markdown",
   "id": "3fae7f8f",
   "metadata": {},
   "source": [
    "In basic strings you add lines with `/n` simmilar to python"
   ]
  },
  {
   "cell_type": "markdown",
   "id": "7bebf068",
   "metadata": {},
   "source": [
    "There is an easier way to do this however. In more recent versions of JS the concept of template literals was introduced, and it allows the user to surround the text with back ticks rather than `''`. Doing so allows for easier formatting of the text. Example shown below"
   ]
  },
  {
   "cell_type": "code",
   "execution_count": 3,
   "id": "f3cc1de1",
   "metadata": {},
   "outputs": [
    {
     "name": "stdout",
     "output_type": "stream",
     "text": [
      "Hello world,\n",
      "how are you\n"
     ]
    }
   ],
   "source": [
    "let TLString =  `Hello world,\n",
    "how are you`;\n",
    "console.log(TLString);"
   ]
  },
  {
   "cell_type": "markdown",
   "id": "ee178fdd",
   "metadata": {},
   "source": [
    "Another benefit of this you can add in text dynamically, without string concatination. Example shown below"
   ]
  },
  {
   "cell_type": "code",
   "execution_count": 4,
   "id": "ed6ad35e",
   "metadata": {},
   "outputs": [
    {
     "name": "stdout",
     "output_type": "stream",
     "text": [
      "Hello Eddie,\n",
      "how are you?;\n"
     ]
    }
   ],
   "source": [
    "let TLString2 = `Hello ${name},\n",
    "how are you?;`\n",
    "console.log(TLString2);"
   ]
  },
  {
   "cell_type": "markdown",
   "id": "d49ba02b",
   "metadata": {},
   "source": [
    "This works simmilar to f-strings in python"
   ]
  }
 ],
 "metadata": {
  "kernelspec": {
   "display_name": "JavaScript (Node.js)",
   "language": "javascript",
   "name": "javascript"
  },
  "language_info": {
   "file_extension": ".js",
   "mimetype": "application/javascript",
   "name": "javascript",
   "version": "18.7.0"
  }
 },
 "nbformat": 4,
 "nbformat_minor": 5
}
