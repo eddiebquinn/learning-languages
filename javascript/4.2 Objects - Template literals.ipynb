{
 "cells": [
  {
   "cell_type": "markdown",
   "id": "0f1cb219",
   "metadata": {},
   "source": [
    "# Template literals\n",
    "In JS strings are a form of object, and can be manipulated as such. I won't write out all the methods for that here, because there is a whole web page for JS-Strings documentation. However when making strings you have a few ways to do it."
   ]
  },
  {
   "cell_type": "markdown",
   "id": "178ee5ac",
   "metadata": {},
   "source": [
    "The most basic way to make a strings is shown below"
   ]
  },
  {
   "cell_type": "code",
   "execution_count": 1,
   "id": "6ae65b4c",
   "metadata": {},
   "outputs": [],
   "source": [
    "let name = \"Eddie\";\n",
    "let basicString = \"Hello \" + name;"
   ]
  },
  {
   "cell_type": "code",
   "execution_count": 2,
   "id": "b13597d2",
   "metadata": {},
   "outputs": [
    {
     "name": "stdout",
     "output_type": "stream",
     "text": [
      "Hello Eddie\n"
     ]
    }
   ],
   "source": [
    "console.log(basicString);"
   ]
  },
  {
   "cell_type": "markdown",
   "id": "455922da",
   "metadata": {},
   "source": [
    "In basic strings you add lines with `/n` simmilar to python"
   ]
  },
  {
   "cell_type": "markdown",
   "id": "0abcec56",
   "metadata": {},
   "source": [
    "There is an easier way to do this however. In more recent versions of JS the concept of template literals was introduced, and it allows the user to surround the text with back ticks rather than `''`. Doing so allows for easier formatting of the text. Example shown below"
   ]
  },
  {
   "cell_type": "code",
   "execution_count": 3,
   "id": "3288d137",
   "metadata": {},
   "outputs": [
    {
     "name": "stdout",
     "output_type": "stream",
     "text": [
      "Hello world,\n",
      "how are you\n"
     ]
    }
   ],
   "source": [
    "let TLString =  `Hello world,\n",
    "how are you`;\n",
    "console.log(TLString);"
   ]
  },
  {
   "cell_type": "markdown",
   "id": "42bd9ce2",
   "metadata": {},
   "source": [
    "Another benefit of this you can add in text dynamically, without string concatination. Example shown below"
   ]
  },
  {
   "cell_type": "code",
   "execution_count": null,
   "id": "e2fc4cad",
   "metadata": {},
   "outputs": [],
   "source": [
    "let TLString2 = `Hello ${}`"
   ]
  }
 ],
 "metadata": {
  "kernelspec": {
   "display_name": "JavaScript (Node.js)",
   "language": "javascript",
   "name": "javascript"
  },
  "language_info": {
   "file_extension": ".js",
   "mimetype": "application/javascript",
   "name": "javascript",
   "version": "18.7.0"
  }
 },
 "nbformat": 4,
 "nbformat_minor": 5
}
