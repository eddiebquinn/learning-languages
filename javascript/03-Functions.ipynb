{
 "cells": [
  {
   "cell_type": "markdown",
   "id": "cac13d7c",
   "metadata": {},
   "source": [
    "# Functions"
   ]
  },
  {
   "cell_type": "markdown",
   "id": "1e22d7e4",
   "metadata": {},
   "source": [
    "## Basics\n",
    "Functions within the scope of JS are a \"refrence type\". The JS syntac for functions is as follows"
   ]
  },
  {
   "cell_type": "code",
   "execution_count": 5,
   "id": "07f72737",
   "metadata": {},
   "outputs": [],
   "source": [
    "function greet(){\n",
    "  console.log(\"Hello world\"); \n",
    "}"
   ]
  },
  {
   "cell_type": "markdown",
   "id": "d744adfb",
   "metadata": {},
   "source": [
    "Notice how we place a `;` infront of the `console.log` statement in the body of the function, but not at the end of a function. \n",
    "\n",
    "Now that we have a function, it can be called like this"
   ]
  },
  {
   "cell_type": "code",
   "execution_count": 2,
   "id": "da8f35d0",
   "metadata": {},
   "outputs": [
    {
     "name": "stdout",
     "output_type": "stream",
     "text": [
      "Hello world\n"
     ]
    }
   ],
   "source": [
    "greet();"
   ]
  },
  {
   "cell_type": "markdown",
   "id": "9a4730d6",
   "metadata": {},
   "source": [
    "## Args\n",
    "In JS inputs are refered too as a parameter, and they are placed between the `()` when creating a function. They can then be refrenced in the code logic."
   ]
  },
  {
   "cell_type": "code",
   "execution_count": 6,
   "id": "4c94549e",
   "metadata": {},
   "outputs": [
    {
     "name": "stdout",
     "output_type": "stream",
     "text": [
      "Hello Eddie\n"
     ]
    }
   ],
   "source": [
    "function greetPerson(name){\n",
    "    console.log(\"Hello \" + name);\n",
    "}\n",
    "\n",
    "greetPerson(\"Eddie\");"
   ]
  },
  {
   "cell_type": "markdown",
   "id": "49c7f7f1",
   "metadata": {},
   "source": [
    "**Note**\n",
    "There is a fundemental diffrence between an Arg and a Parameter. An arg is what u put into your calling statement, for example where you write `greetPerson(\"Eddie\");` the `\"Eddie\"` is an argument. However the input, as mentioned before, is a parameter. These terms can be used interchangably, but *on a fundemental level* they are diffrent.\n",
    "\n",
    "If you want to add more than one parameter you would do this"
   ]
  },
  {
   "cell_type": "code",
   "execution_count": 7,
   "id": "d4fb0f43",
   "metadata": {},
   "outputs": [
    {
     "name": "stdout",
     "output_type": "stream",
     "text": [
      "Hello, my name is Eddie, and i live in London.\n"
     ]
    }
   ],
   "source": [
    "function nameAndPlace(name, place){\n",
    "    console.log(\"Hello, my name is \" + name + \", and i live in \" + place + \".\");\n",
    "}\n",
    "\n",
    "nameAndPlace(\"Eddie\", \"London\");"
   ]
  },
  {
   "cell_type": "markdown",
   "id": "3ff20dbe",
   "metadata": {},
   "source": [
    "A quirk of JS, because of how it handles empty variables, is that if we dont supply the second arg in `nameAndPlace` it will say `undefined`."
   ]
  },
  {
   "cell_type": "code",
   "execution_count": 8,
   "id": "0db09d4d",
   "metadata": {},
   "outputs": [
    {
     "name": "stdout",
     "output_type": "stream",
     "text": [
      "Hello, my name is Eddie, and i live in undefined.\n"
     ]
    }
   ],
   "source": [
    "nameAndPlace(\"Eddie\");"
   ]
  },
  {
   "cell_type": "markdown",
   "id": "f6be92c5",
   "metadata": {},
   "source": [
    "## Return values\n",
    "To return a value, use this syntax"
   ]
  },
  {
   "cell_type": "code",
   "execution_count": 9,
   "id": "c75b6bab",
   "metadata": {},
   "outputs": [
    {
     "name": "stdout",
     "output_type": "stream",
     "text": [
      "4\n"
     ]
    }
   ],
   "source": [
    "function square(number){\n",
    "    return number*number;\n",
    "}\n",
    "\n",
    "console.log(square(2));"
   ]
  },
  {
   "cell_type": "code",
   "execution_count": null,
   "id": "49d97254",
   "metadata": {},
   "outputs": [],
   "source": []
  }
 ],
 "metadata": {
  "kernelspec": {
   "display_name": "JavaScript (Node.js)",
   "language": "javascript",
   "name": "javascript"
  },
  "language_info": {
   "file_extension": ".js",
   "mimetype": "application/javascript",
   "name": "javascript",
   "version": "18.10.0"
  }
 },
 "nbformat": 4,
 "nbformat_minor": 5
}
