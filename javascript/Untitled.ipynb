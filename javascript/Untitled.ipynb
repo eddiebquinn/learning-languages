{
 "cells": [
  {
   "cell_type": "markdown",
   "id": "b84fa9f4",
   "metadata": {},
   "source": [
    "# Loops"
   ]
  },
  {
   "cell_type": "markdown",
   "id": "a84e613c",
   "metadata": {},
   "source": [
    "## For loops\n",
    "The syntax for a for loop in JS is as follow\n",
    "\n",
    "```JS\n",
    "for (initalExpression; condition; incrementExpression) {\n",
    "    code block\n",
    "}\n",
    "\n",
    "```\n",
    "\n",
    "Inital expression - Here you declare and init a variable, and this variable is what is used as the loop variable\n",
    "Condition - This is where you compare the the Inital Expression against a condition, to dictate how long the loop runs\n",
    "Incriment expression - We use this to increment the value of the initial expression. Then everything between the `{}` is the code that runs.\n",
    "\n",
    "The below example prints the value of `i` while the value is less than 5"
   ]
  },
  {
   "cell_type": "code",
   "execution_count": 1,
   "id": "1a37b84b",
   "metadata": {},
   "outputs": [],
   "source": [
    "function forDemo(){\n",
    "    for(let i =0; i < 5; i++) {\n",
    "        console.log(i);\n",
    "    }\n",
    "}"
   ]
  },
  {
   "cell_type": "code",
   "execution_count": 2,
   "id": "c9c6e665",
   "metadata": {},
   "outputs": [
    {
     "name": "stdout",
     "output_type": "stream",
     "text": [
      "0\n",
      "1\n",
      "2\n",
      "3\n",
      "4\n"
     ]
    }
   ],
   "source": [
    "forDemo();"
   ]
  },
  {
   "cell_type": "markdown",
   "id": "835fb926",
   "metadata": {},
   "source": [
    "As with python, the code block can include conditional statements and such."
   ]
  },
  {
   "cell_type": "markdown",
   "id": "294ed334",
   "metadata": {},
   "source": [
    "## While loop\n",
    "The key diffrence between for loops and while loops in JS is that in for loops, only exsists in the scope of the loop itself. In while loops the variable is determined outside the loop. The syntax is as follow"
   ]
  },
  {
   "cell_type": "code",
   "execution_count": 3,
   "id": "a932f5c9",
   "metadata": {
    "scrolled": true
   },
   "outputs": [],
   "source": [
    "let Wi = 0;\n",
    "\n",
    "function whileDemo(){\n",
    "    while (Wi <= 5){\n",
    "        console.log(Wi);\n",
    "        Wi++;\n",
    "    }\n",
    "}"
   ]
  },
  {
   "cell_type": "code",
   "execution_count": 4,
   "id": "f8aa2cb8",
   "metadata": {},
   "outputs": [
    {
     "name": "stdout",
     "output_type": "stream",
     "text": [
      "0\n",
      "1\n",
      "2\n",
      "3\n",
      "4\n",
      "5\n"
     ]
    }
   ],
   "source": [
    "whileDemo();"
   ]
  },
  {
   "cell_type": "markdown",
   "id": "36c0f322",
   "metadata": {},
   "source": [
    "## Do while\n",
    "These loops are simmilar to while loops, but are slightly diffrent. You still need to decalre the variable outside the code. The diffrence between the two is that Do While loops are always executed atleast once, even if the condition evaluates to false. The syntax is shown below, aswell as a demo to prove this change"
   ]
  },
  {
   "cell_type": "code",
   "execution_count": 5,
   "id": "adc04377",
   "metadata": {},
   "outputs": [],
   "source": [
    "let dWi = 0;\n",
    "\n",
    "function dwhileDemo(){\n",
    "    do {\n",
    "        console.log(dWi);\n",
    "        dWi++;\n",
    "    } while (dWi <= 5);\n",
    "}"
   ]
  },
  {
   "cell_type": "code",
   "execution_count": 6,
   "id": "2a872d71",
   "metadata": {},
   "outputs": [
    {
     "name": "stdout",
     "output_type": "stream",
     "text": [
      "0\n",
      "1\n",
      "2\n",
      "3\n",
      "4\n",
      "5\n"
     ]
    }
   ],
   "source": [
    "dwhileDemo();"
   ]
  },
  {
   "cell_type": "markdown",
   "id": "f1aac57a",
   "metadata": {},
   "source": [
    "If we look at the variable associated with our while demo we will see that it is above 5"
   ]
  },
  {
   "cell_type": "code",
   "execution_count": 7,
   "id": "535ada10",
   "metadata": {},
   "outputs": [
    {
     "name": "stdout",
     "output_type": "stream",
     "text": [
      "6\n"
     ]
    }
   ],
   "source": [
    "console.log(Wi);"
   ]
  },
  {
   "cell_type": "markdown",
   "id": "a105b11b",
   "metadata": {},
   "source": [
    "Therefore if we call the function to do that while loop it will not show anything"
   ]
  },
  {
   "cell_type": "code",
   "execution_count": 8,
   "id": "fe1b1a86",
   "metadata": {},
   "outputs": [],
   "source": [
    "whileDemo();"
   ]
  },
  {
   "cell_type": "markdown",
   "id": "b0d79a80",
   "metadata": {},
   "source": [
    "However our 'Do While' loop *will* show somthing"
   ]
  },
  {
   "cell_type": "code",
   "execution_count": 9,
   "id": "655a0390",
   "metadata": {},
   "outputs": [
    {
     "name": "stdout",
     "output_type": "stream",
     "text": [
      "6\n",
      "7\n",
      "8\n"
     ]
    }
   ],
   "source": [
    "dwhileDemo();\n",
    "dwhileDemo();\n",
    "dwhileDemo();"
   ]
  },
  {
   "cell_type": "code",
   "execution_count": null,
   "id": "35cd4b65",
   "metadata": {},
   "outputs": [],
   "source": []
  }
 ],
 "metadata": {
  "kernelspec": {
   "display_name": "JavaScript (Node.js)",
   "language": "javascript",
   "name": "javascript"
  },
  "language_info": {
   "file_extension": ".js",
   "mimetype": "application/javascript",
   "name": "javascript",
   "version": "18.10.0"
  }
 },
 "nbformat": 4,
 "nbformat_minor": 5
}
