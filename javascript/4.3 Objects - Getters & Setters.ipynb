{
 "cells": [
  {
   "cell_type": "markdown",
   "id": "8080b249",
   "metadata": {},
   "source": [
    "# Getters and Setters\n",
    "Getters and setters are a special type of method inside objects, they are a fairly universal concept in coding."
   ]
  },
  {
   "cell_type": "markdown",
   "id": "966d2ee2",
   "metadata": {},
   "source": [
    "## Scenario\n",
    "Imagine you have a person object with two properties"
   ]
  },
  {
   "cell_type": "code",
   "execution_count": 1,
   "id": "2c2ed00f",
   "metadata": {},
   "outputs": [],
   "source": [
    "const person = {\n",
    "    firstName: \"Eddie\",\n",
    "    lastName: \"Quinn\"\n",
    "};"
   ]
  },
  {
   "cell_type": "markdown",
   "id": "d484f98c",
   "metadata": {},
   "source": [
    "Later on in our code we may want to display the person objects full name, and this can be done using the template litteral"
   ]
  },
  {
   "cell_type": "code",
   "execution_count": 2,
   "id": "59502857",
   "metadata": {},
   "outputs": [
    {
     "name": "stdout",
     "output_type": "stream",
     "text": [
      "Eddie Quinn\n"
     ]
    }
   ],
   "source": [
    "console.log(`${person.firstName} ${person.lastName}`);"
   ]
  },
  {
   "cell_type": "markdown",
   "id": "74e84056",
   "metadata": {},
   "source": [
    "Now this approach *works*, however it isn't the best way to go about it. Perhaps there are multiple places in the application where you would need to display the fullname, using this current method would break DRY principles. It also would be hell for maintaining code, because it would require you to edit all of variables.\n",
    "\n",
    "A better approach would be to have a method inside the object itself that does this"
   ]
  },
  {
   "cell_type": "code",
   "execution_count": 3,
   "id": "d3a470a9",
   "metadata": {},
   "outputs": [],
   "source": [
    "const person2 = {\n",
    "    firstName: \"Eddie\",\n",
    "    lastName: \"Quinn\",\n",
    "    \n",
    "    fullname(){return `${this.firstName} ${this.lastName}`}\n",
    "}"
   ]
  },
  {
   "cell_type": "code",
   "execution_count": 4,
   "id": "3175b48b",
   "metadata": {},
   "outputs": [
    {
     "name": "stdout",
     "output_type": "stream",
     "text": [
      "Eddie Quinn\n"
     ]
    }
   ],
   "source": [
    "console.log(person2.fullname());"
   ]
  },
  {
   "cell_type": "markdown",
   "id": "02cb7227",
   "metadata": {},
   "source": [
    "Again... this approach *works* but this isnt the best way to go about it, and this is where you get into getters and setters"
   ]
  },
  {
   "cell_type": "markdown",
   "id": "f6d93e41",
   "metadata": {},
   "source": [
    "## Benefits of getters and setters\n",
    "The problems with the above aproach is that it is read only, the method only returns the persons full name - you cant actually set it from the outside. The other issue is that you call this like a method, when it would look better to set it like a property\n",
    "\n",
    "Getters and setters serve the following purposes\n",
    "    **getters -** get the properties of an object\n",
    "    **setters -** mutate the properties of an object\n",
    "\n",
    "this is how you do it"
   ]
  },
  {
   "cell_type": "code",
   "execution_count": 5,
   "id": "501c9866",
   "metadata": {},
   "outputs": [],
   "source": [
    "const person3 = {\n",
    "    firstName: \"Eddie\",\n",
    "    lastName: \"Quinn\",\n",
    "    \n",
    "    get fullName(){return `${this.firstName} ${this.lastName}`},\n",
    "    set fullName(val){\n",
    "        let splitName = val.split(' ');\n",
    "        this.firstName = splitName[0];\n",
    "        this.lastName = splitName[1];\n",
    "    }\n",
    "};"
   ]
  },
  {
   "cell_type": "code",
   "execution_count": 6,
   "id": "05b0ceda",
   "metadata": {},
   "outputs": [
    {
     "name": "stdout",
     "output_type": "stream",
     "text": [
      "Eddie Quinn\n",
      "Lemmy Kilmister\n"
     ]
    }
   ],
   "source": [
    "console.log(person3.fullName);\n",
    "person3.fullName = \"Lemmy Kilmister\";\n",
    "console.log(person3.fullName);"
   ]
  },
  {
   "cell_type": "code",
   "execution_count": null,
   "id": "ac147c36",
   "metadata": {},
   "outputs": [],
   "source": []
  },
  {
   "cell_type": "code",
   "execution_count": null,
   "id": "d5881f1a",
   "metadata": {},
   "outputs": [],
   "source": []
  }
 ],
 "metadata": {
  "kernelspec": {
   "display_name": "JavaScript (Node.js)",
   "language": "javascript",
   "name": "javascript"
  },
  "language_info": {
   "file_extension": ".js",
   "mimetype": "application/javascript",
   "name": "javascript",
   "version": "18.7.0"
  }
 },
 "nbformat": 4,
 "nbformat_minor": 5
}
