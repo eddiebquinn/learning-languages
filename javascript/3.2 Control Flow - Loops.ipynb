{
 "cells": [
  {
   "cell_type": "markdown",
   "id": "b84fa9f4",
   "metadata": {},
   "source": [
    "# Loops"
   ]
  },
  {
   "cell_type": "markdown",
   "id": "a84e613c",
   "metadata": {},
   "source": [
    "## For loops\n",
    "The syntax for a for loop in JS is as follow\n",
    "\n",
    "```JS\n",
    "for (initalExpression; condition; incrementExpression) {\n",
    "    code block\n",
    "}\n",
    "\n",
    "```\n",
    "\n",
    "Inital expression - Here you declare and init a variable, and this variable is what is used as the loop variable\n",
    "Condition - This is where you compare the the Inital Expression against a condition, to dictate how long the loop runs\n",
    "Incriment expression - We use this to increment the value of the initial expression. Then everything between the `{}` is the code that runs.\n",
    "\n",
    "The below example prints the value of `i` while the value is less than 5"
   ]
  },
  {
   "cell_type": "code",
   "execution_count": 1,
   "id": "1a37b84b",
   "metadata": {},
   "outputs": [],
   "source": [
    "function forDemo(){\n",
    "    for(let i =0; i < 5; i++) {\n",
    "        console.log(i);\n",
    "    }\n",
    "}"
   ]
  },
  {
   "cell_type": "code",
   "execution_count": 2,
   "id": "c9c6e665",
   "metadata": {},
   "outputs": [
    {
     "name": "stdout",
     "output_type": "stream",
     "text": [
      "0\n",
      "1\n",
      "2\n",
      "3\n",
      "4\n"
     ]
    }
   ],
   "source": [
    "forDemo();"
   ]
  },
  {
   "cell_type": "markdown",
   "id": "835fb926",
   "metadata": {},
   "source": [
    "As with python, the code block can include conditional statements and such."
   ]
  },
  {
   "cell_type": "markdown",
   "id": "294ed334",
   "metadata": {},
   "source": [
    "## While loop\n",
    "The key diffrence between for loops and while loops in JS is that in for loops, only exsists in the scope of the loop itself. In while loops the variable is determined outside the loop. The syntax is as follow"
   ]
  },
  {
   "cell_type": "code",
   "execution_count": 3,
   "id": "a932f5c9",
   "metadata": {
    "scrolled": true
   },
   "outputs": [],
   "source": [
    "let Wi = 0;\n",
    "\n",
    "function whileDemo(){\n",
    "    while (Wi <= 5){\n",
    "        console.log(Wi);\n",
    "        Wi++;\n",
    "    }\n",
    "}"
   ]
  },
  {
   "cell_type": "code",
   "execution_count": 4,
   "id": "f8aa2cb8",
   "metadata": {},
   "outputs": [
    {
     "name": "stdout",
     "output_type": "stream",
     "text": [
      "0\n",
      "1\n",
      "2\n",
      "3\n",
      "4\n",
      "5\n"
     ]
    }
   ],
   "source": [
    "whileDemo();"
   ]
  },
  {
   "cell_type": "markdown",
   "id": "36c0f322",
   "metadata": {},
   "source": [
    "## Do while\n",
    "These loops are simmilar to while loops, but are slightly diffrent. You still need to decalre the variable outside the code. The diffrence between the two is that Do While loops are always executed atleast once, even if the condition evaluates to false. The syntax is shown below, aswell as a demo to prove this change"
   ]
  },
  {
   "cell_type": "code",
   "execution_count": 5,
   "id": "adc04377",
   "metadata": {},
   "outputs": [],
   "source": [
    "let dWi = 0;\n",
    "\n",
    "function dwhileDemo(){\n",
    "    do {\n",
    "        console.log(dWi);\n",
    "        dWi++;\n",
    "    } while (dWi <= 5);\n",
    "}"
   ]
  },
  {
   "cell_type": "code",
   "execution_count": 6,
   "id": "2a872d71",
   "metadata": {},
   "outputs": [
    {
     "name": "stdout",
     "output_type": "stream",
     "text": [
      "0\n",
      "1\n",
      "2\n",
      "3\n",
      "4\n",
      "5\n"
     ]
    }
   ],
   "source": [
    "dwhileDemo();"
   ]
  },
  {
   "cell_type": "markdown",
   "id": "f1aac57a",
   "metadata": {},
   "source": [
    "If we look at the variable associated with our while demo we will see that it is above 5"
   ]
  },
  {
   "cell_type": "code",
   "execution_count": 7,
   "id": "535ada10",
   "metadata": {},
   "outputs": [
    {
     "name": "stdout",
     "output_type": "stream",
     "text": [
      "6\n"
     ]
    }
   ],
   "source": [
    "console.log(Wi);"
   ]
  },
  {
   "cell_type": "markdown",
   "id": "a105b11b",
   "metadata": {},
   "source": [
    "Therefore if we call the function to do that while loop it will not show anything"
   ]
  },
  {
   "cell_type": "code",
   "execution_count": 8,
   "id": "fe1b1a86",
   "metadata": {},
   "outputs": [],
   "source": [
    "whileDemo();"
   ]
  },
  {
   "cell_type": "markdown",
   "id": "b0d79a80",
   "metadata": {},
   "source": [
    "However our 'Do While' loop *will* show somthing"
   ]
  },
  {
   "cell_type": "code",
   "execution_count": 9,
   "id": "655a0390",
   "metadata": {},
   "outputs": [
    {
     "name": "stdout",
     "output_type": "stream",
     "text": [
      "6\n",
      "7\n",
      "8\n"
     ]
    }
   ],
   "source": [
    "dwhileDemo();\n",
    "dwhileDemo();\n",
    "dwhileDemo();"
   ]
  },
  {
   "cell_type": "markdown",
   "id": "04e18f6e",
   "metadata": {},
   "source": [
    "## For In & For of\n",
    "So far we have learnt about `for`, `while`, and `do while`. In comparison to python these are closer to being in the `while` type family, as in *do this thing untill a condition is met*. This ese functions are the ones that let you interate over an object, for example an array."
   ]
  },
  {
   "cell_type": "markdown",
   "id": "b0ef2851",
   "metadata": {},
   "source": [
    "### For In\n",
    "Let say we want to display all the properties of an object, this is when we will use this. Example code is shown below"
   ]
  },
  {
   "cell_type": "code",
   "execution_count": 10,
   "id": "6bc97b9b",
   "metadata": {},
   "outputs": [],
   "source": [
    "const iPer = {\n",
    "    name: 'eddie',\n",
    "    age: '24'\n",
    "};"
   ]
  },
  {
   "cell_type": "code",
   "execution_count": 11,
   "id": "8cc9b8ce",
   "metadata": {},
   "outputs": [
    {
     "name": "stdout",
     "output_type": "stream",
     "text": [
      "name = eddie\n",
      "age = 24\n"
     ]
    }
   ],
   "source": [
    "for (let key in iPer) {\n",
    "    console.log(key + ' = ' + iPer[key]);\n",
    "}"
   ]
  },
  {
   "cell_type": "markdown",
   "id": "ec003397",
   "metadata": {},
   "source": [
    "As can be seen this for loop doesnt follow the syntax of the one we previous discussed, instead we do `let v in i` where V is the tempary interable variable, and i is the object you want to iterate over. The v can be swapped out for anything, not just `key`"
   ]
  },
  {
   "cell_type": "code",
   "execution_count": 12,
   "id": "0dd8120a",
   "metadata": {},
   "outputs": [
    {
     "name": "stdout",
     "output_type": "stream",
     "text": [
      "name = eddie\n",
      "age = 24\n"
     ]
    }
   ],
   "source": [
    "for (let x in iPer) {\n",
    "    console.log(x + ' = ' + iPer[x]);\n",
    "}"
   ]
  },
  {
   "cell_type": "markdown",
   "id": "0d0e8163",
   "metadata": {},
   "source": [
    "## For Of\n",
    "`for of` is very simmilar to the `for in` loop, the only diffrence is rather than using `in` we use `of` from a syntax perspective. Functionally however, it allows us to accsess the element directly, rather than using the index to refrence it. An example of this is shown below"
   ]
  },
  {
   "cell_type": "code",
   "execution_count": 13,
   "id": "6b3528ad",
   "metadata": {},
   "outputs": [],
   "source": [
    "let lp = [78, 56, 232, 12, 8];"
   ]
  },
  {
   "cell_type": "markdown",
   "id": "f20dd9db",
   "metadata": {},
   "source": [
    "Here, when iterating through the args we use `args[i]` to refrence to element"
   ]
  },
  {
   "cell_type": "code",
   "execution_count": 14,
   "id": "1a3971f5",
   "metadata": {},
   "outputs": [],
   "source": [
    "function in_findsmallestint(args){\n",
    "    let sv = null;\n",
    "    for (let i in args) {\n",
    "        if (sv === null) {\n",
    "            sv = args[i];\n",
    "        }\n",
    "        else if (sv > args[i]) {\n",
    "            sv = args[i];\n",
    "        }\n",
    "    }\n",
    "    return sv;\n",
    "}"
   ]
  },
  {
   "cell_type": "code",
   "execution_count": 15,
   "id": "1c875d78",
   "metadata": {},
   "outputs": [
    {
     "data": {
      "text/plain": [
       "8"
      ]
     },
     "execution_count": 15,
     "metadata": {},
     "output_type": "execute_result"
    }
   ],
   "source": [
    "in_findsmallestint(lp);"
   ]
  },
  {
   "cell_type": "markdown",
   "id": "1ecaceec",
   "metadata": {},
   "source": [
    "However when we do it this way, we can refrence it directly"
   ]
  },
  {
   "cell_type": "code",
   "execution_count": 16,
   "id": "70b20961",
   "metadata": {},
   "outputs": [],
   "source": [
    "function of_findsmallestint(args){\n",
    "    let sv = null;\n",
    "    for (let n of args) {\n",
    "        if (sv === null) {\n",
    "            sv = n;\n",
    "        }\n",
    "        else if (sv > n) {\n",
    "            sv = n;\n",
    "        }\n",
    "    }\n",
    "    return sv;\n",
    "}"
   ]
  },
  {
   "cell_type": "code",
   "execution_count": 17,
   "id": "0b9c2510",
   "metadata": {},
   "outputs": [
    {
     "data": {
      "text/plain": [
       "8"
      ]
     },
     "execution_count": 17,
     "metadata": {},
     "output_type": "execute_result"
    }
   ],
   "source": [
    "of_findsmallestint(lp);"
   ]
  },
  {
   "cell_type": "markdown",
   "id": "01abba52",
   "metadata": {},
   "source": [
    "---\n",
    "## Infinite loops\n",
    "When running loops you can accidenly run into code that creates an infinate loop, which will cauase your code to crash. This loop does exactly what it says on the tin. An example is shown below"
   ]
  },
  {
   "cell_type": "code",
   "execution_count": 18,
   "id": "d3f6e816",
   "metadata": {},
   "outputs": [
    {
     "name": "stdout",
     "output_type": "stream",
     "text": [
      "0\n",
      "1\n",
      "2\n",
      "3\n",
      "4\n"
     ]
    },
    {
     "data": {
      "text/plain": [
       "4"
      ]
     },
     "execution_count": 18,
     "metadata": {},
     "output_type": "execute_result"
    }
   ],
   "source": [
    "let i = 0;\n",
    "while (i < 5){\n",
    "    console.log(i);\n",
    "    i++; //This is where things can go wrong\n",
    "}"
   ]
  },
  {
   "cell_type": "markdown",
   "id": "fff7cbb5",
   "metadata": {},
   "source": [
    "So in the above function it says that `while i is less that five, print i`. At the end of each loop `i` is increased by one, and therefore this means that the loop will naturally come to end, *however* if we was to commend out the `i++;` then it would not interate. The program would continue to print `0` infinatley. \n",
    "\n",
    "Another good example of this is\n",
    "\n",
    "```JS\n",
    "while(true){\n",
    "}\n",
    "```\n",
    "\n",
    "These are not however just limited to while loops\n",
    "\n",
    "**Do while**\n",
    "```JS\n",
    "let x =0;\n",
    "do {\n",
    "    // x++;\n",
    "} while (x < 5);\n",
    "```\n",
    "\n",
    "**For**\n",
    "```JS\n",
    "for (let i=0; i > 0; i++)\n",
    "```"
   ]
  },
  {
   "cell_type": "markdown",
   "id": "46e00300",
   "metadata": {},
   "source": [
    "## Break and Continue\n",
    "In all loops there are two terms `break` and `continue` that can change how the whole look operates. These work simmilar to python"
   ]
  },
  {
   "cell_type": "code",
   "execution_count": 19,
   "id": "267ef6f0",
   "metadata": {},
   "outputs": [],
   "source": [
    "function demo_loop_1 (arg) {\n",
    "    while (arg <= 10) {\n",
    "        console.log(arg);\n",
    "        arg++;\n",
    "    }\n",
    "}"
   ]
  },
  {
   "cell_type": "code",
   "execution_count": 20,
   "id": "32c8528d",
   "metadata": {},
   "outputs": [
    {
     "name": "stdout",
     "output_type": "stream",
     "text": [
      "0\n",
      "1\n",
      "2\n",
      "3\n",
      "4\n",
      "5\n",
      "6\n",
      "7\n",
      "8\n",
      "9\n",
      "10\n"
     ]
    }
   ],
   "source": [
    "demo_loop_1(0);"
   ]
  },
  {
   "cell_type": "markdown",
   "id": "fcf913a9",
   "metadata": {},
   "source": [
    "The above example shows a normal loop that lists 0 to 10. The somtimes will come a point where you want to break out of a loop when a certain condition is met. For this we would use the `break` keyword. This is shown below"
   ]
  },
  {
   "cell_type": "code",
   "execution_count": 21,
   "id": "dcc8b75c",
   "metadata": {},
   "outputs": [],
   "source": [
    "function demo_loop_2 (arg) { \n",
    "    while (arg <= 10) {\n",
    "        if (arg === 5) break; // I didnt use {} here because it was one word\n",
    "        console.log(arg);\n",
    "        arg++;\n",
    "    }\n",
    "}"
   ]
  },
  {
   "cell_type": "code",
   "execution_count": 22,
   "id": "0e9daeb6",
   "metadata": {},
   "outputs": [
    {
     "name": "stdout",
     "output_type": "stream",
     "text": [
      "0\n",
      "1\n",
      "2\n",
      "3\n",
      "4\n"
     ]
    }
   ],
   "source": [
    "demo_loop_2(0);"
   ]
  },
  {
   "cell_type": "markdown",
   "id": "9e7842cd",
   "metadata": {},
   "source": [
    "They continue keyword words in a simmilar way, but instead of breaking out of the loop, when the condition is met it simply skips to the next interation. Example is shown below"
   ]
  },
  {
   "cell_type": "code",
   "execution_count": 23,
   "id": "e961ab78",
   "metadata": {},
   "outputs": [],
   "source": [
    "function demo_loop_3 (arg) {\n",
    "    while (arg <= 10) {\n",
    "        if (arg % 2 === 0) {\n",
    "            arg++;\n",
    "            continue;\n",
    "        }\n",
    "        console.log(arg);\n",
    "        arg++;\n",
    "    }\n",
    "}"
   ]
  },
  {
   "cell_type": "code",
   "execution_count": 24,
   "id": "fde7a93e",
   "metadata": {},
   "outputs": [
    {
     "name": "stdout",
     "output_type": "stream",
     "text": [
      "1\n",
      "3\n",
      "5\n",
      "7\n",
      "9\n"
     ]
    }
   ],
   "source": [
    "demo_loop_3(0);"
   ]
  },
  {
   "cell_type": "markdown",
   "id": "382ebaff",
   "metadata": {},
   "source": [
    "---"
   ]
  },
  {
   "cell_type": "markdown",
   "id": "d1f1c286",
   "metadata": {},
   "source": [
    "## For each\n",
    "There is way that is specifically made to iterate over an array. Every array automatically has a `forEach` method, and it takes a callback function to decide what it does at each iterable. An example of this is shown below"
   ]
  },
  {
   "cell_type": "code",
   "execution_count": 1,
   "id": "840ab3df",
   "metadata": {},
   "outputs": [],
   "source": [
    "let feeg = [1, 2, 3, 4];"
   ]
  },
  {
   "cell_type": "code",
   "execution_count": 2,
   "id": "765c06be",
   "metadata": {},
   "outputs": [
    {
     "name": "stdout",
     "output_type": "stream",
     "text": [
      "1\n",
      "2\n",
      "3\n",
      "4\n"
     ]
    }
   ],
   "source": [
    "feeg.forEach(function(number){console.log(number)});"
   ]
  },
  {
   "cell_type": "markdown",
   "id": "3e05e289",
   "metadata": {},
   "source": [
    "This can also be written as"
   ]
  },
  {
   "cell_type": "code",
   "execution_count": 3,
   "id": "9e1c5b23",
   "metadata": {},
   "outputs": [
    {
     "name": "stdout",
     "output_type": "stream",
     "text": [
      "1\n",
      "2\n",
      "3\n",
      "4\n"
     ]
    }
   ],
   "source": [
    "feeg.forEach(number => console.log(number));"
   ]
  },
  {
   "cell_type": "code",
   "execution_count": null,
   "id": "fc67a60b",
   "metadata": {},
   "outputs": [],
   "source": []
  }
 ],
 "metadata": {
  "kernelspec": {
   "display_name": "JavaScript (Node.js)",
   "language": "javascript",
   "name": "javascript"
  },
  "language_info": {
   "file_extension": ".js",
   "mimetype": "application/javascript",
   "name": "javascript",
   "version": "18.7.0"
  }
 },
 "nbformat": 4,
 "nbformat_minor": 5
}
