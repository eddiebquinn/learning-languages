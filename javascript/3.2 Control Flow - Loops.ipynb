{
 "cells": [
  {
   "cell_type": "markdown",
   "id": "b84fa9f4",
   "metadata": {},
   "source": [
    "# Loops"
   ]
  },
  {
   "cell_type": "markdown",
   "id": "a84e613c",
   "metadata": {},
   "source": [
    "## For loops\n",
    "The syntax for a for loop in JS is as follow\n",
    "\n",
    "```JS\n",
    "for (initalExpression; condition; incrementExpression) {\n",
    "    code block\n",
    "}\n",
    "\n",
    "```\n",
    "\n",
    "Inital expression - Here you declare and init a variable, and this variable is what is used as the loop variable\n",
    "Condition - This is where you compare the the Inital Expression against a condition, to dictate how long the loop runs\n",
    "Incriment expression - We use this to increment the value of the initial expression. Then everything between the `{}` is the code that runs.\n",
    "\n",
    "The below example prints the value of `i` while the value is less than 5"
   ]
  },
  {
   "cell_type": "code",
   "execution_count": 1,
   "id": "1a37b84b",
   "metadata": {},
   "outputs": [],
   "source": [
    "function forDemo(){\n",
    "    for(let i =0; i < 5; i++) {\n",
    "        console.log(i);\n",
    "    }\n",
    "}"
   ]
  },
  {
   "cell_type": "code",
   "execution_count": 2,
   "id": "c9c6e665",
   "metadata": {},
   "outputs": [
    {
     "name": "stdout",
     "output_type": "stream",
     "text": [
      "0\n",
      "1\n",
      "2\n",
      "3\n",
      "4\n"
     ]
    }
   ],
   "source": [
    "forDemo();"
   ]
  },
  {
   "cell_type": "markdown",
   "id": "835fb926",
   "metadata": {},
   "source": [
    "As with python, the code block can include conditional statements and such."
   ]
  },
  {
   "cell_type": "markdown",
   "id": "294ed334",
   "metadata": {},
   "source": [
    "## While loop\n",
    "The key diffrence between for loops and while loops in JS is that in for loops, only exsists in the scope of the loop itself. In while loops the variable is determined outside the loop. The syntax is as follow"
   ]
  },
  {
   "cell_type": "code",
   "execution_count": 3,
   "id": "a932f5c9",
   "metadata": {
    "scrolled": true
   },
   "outputs": [],
   "source": [
    "let Wi = 0;\n",
    "\n",
    "function whileDemo(){\n",
    "    while (Wi <= 5){\n",
    "        console.log(Wi);\n",
    "        Wi++;\n",
    "    }\n",
    "}"
   ]
  },
  {
   "cell_type": "code",
   "execution_count": 4,
   "id": "f8aa2cb8",
   "metadata": {},
   "outputs": [
    {
     "name": "stdout",
     "output_type": "stream",
     "text": [
      "0\n",
      "1\n",
      "2\n",
      "3\n",
      "4\n",
      "5\n"
     ]
    }
   ],
   "source": [
    "whileDemo();"
   ]
  },
  {
   "cell_type": "markdown",
   "id": "36c0f322",
   "metadata": {},
   "source": [
    "## Do while\n",
    "These loops are simmilar to while loops, but are slightly diffrent. You still need to decalre the variable outside the code. The diffrence between the two is that Do While loops are always executed atleast once, even if the condition evaluates to false. The syntax is shown below, aswell as a demo to prove this change"
   ]
  },
  {
   "cell_type": "code",
   "execution_count": 5,
   "id": "adc04377",
   "metadata": {},
   "outputs": [],
   "source": [
    "let dWi = 0;\n",
    "\n",
    "function dwhileDemo(){\n",
    "    do {\n",
    "        console.log(dWi);\n",
    "        dWi++;\n",
    "    } while (dWi <= 5);\n",
    "}"
   ]
  },
  {
   "cell_type": "code",
   "execution_count": 6,
   "id": "2a872d71",
   "metadata": {},
   "outputs": [
    {
     "name": "stdout",
     "output_type": "stream",
     "text": [
      "0\n",
      "1\n",
      "2\n",
      "3\n",
      "4\n",
      "5\n"
     ]
    }
   ],
   "source": [
    "dwhileDemo();"
   ]
  },
  {
   "cell_type": "markdown",
   "id": "f1aac57a",
   "metadata": {},
   "source": [
    "If we look at the variable associated with our while demo we will see that it is above 5"
   ]
  },
  {
   "cell_type": "code",
   "execution_count": 7,
   "id": "535ada10",
   "metadata": {},
   "outputs": [
    {
     "name": "stdout",
     "output_type": "stream",
     "text": [
      "6\n"
     ]
    }
   ],
   "source": [
    "console.log(Wi);"
   ]
  },
  {
   "cell_type": "markdown",
   "id": "a105b11b",
   "metadata": {},
   "source": [
    "Therefore if we call the function to do that while loop it will not show anything"
   ]
  },
  {
   "cell_type": "code",
   "execution_count": 8,
   "id": "fe1b1a86",
   "metadata": {},
   "outputs": [],
   "source": [
    "whileDemo();"
   ]
  },
  {
   "cell_type": "markdown",
   "id": "b0d79a80",
   "metadata": {},
   "source": [
    "However our 'Do While' loop *will* show somthing"
   ]
  },
  {
   "cell_type": "code",
   "execution_count": 9,
   "id": "655a0390",
   "metadata": {},
   "outputs": [
    {
     "name": "stdout",
     "output_type": "stream",
     "text": [
      "6\n",
      "7\n",
      "8\n"
     ]
    }
   ],
   "source": [
    "dwhileDemo();\n",
    "dwhileDemo();\n",
    "dwhileDemo();"
   ]
  },
  {
   "cell_type": "markdown",
   "id": "04e18f6e",
   "metadata": {},
   "source": [
    "## For In & For of\n",
    "So far we have learnt about `for`, `while`, and `do while`. In comparison to python these are closer to being in the `while` type family, as in *do this thing untill a condition is met*. This ese functions are the ones that let you interate over an object, for example an array."
   ]
  },
  {
   "cell_type": "markdown",
   "id": "b0ef2851",
   "metadata": {},
   "source": [
    "### For In\n",
    "Let say we want to display all the properties of an object, this is when we will use this. Example code is shown below"
   ]
  },
  {
   "cell_type": "code",
   "execution_count": 12,
   "id": "6bc97b9b",
   "metadata": {},
   "outputs": [],
   "source": [
    "const iPer = {\n",
    "    name: 'eddie',\n",
    "    age: '24'\n",
    "};"
   ]
  },
  {
   "cell_type": "code",
   "execution_count": 13,
   "id": "8cc9b8ce",
   "metadata": {},
   "outputs": [
    {
     "name": "stdout",
     "output_type": "stream",
     "text": [
      "name = eddie\n",
      "age = 24\n"
     ]
    }
   ],
   "source": [
    "for (let key in iPer) {\n",
    "    console.log(key + ' = 'b + iPer[key]);\n",
    "}"
   ]
  },
  {
   "cell_type": "markdown",
   "id": "ec003397",
   "metadata": {},
   "source": [
    "As can be seen this for loop doesnt follow the syntax of the one we previous discussed, instead we do `let v in i` where V is the tempary interable variable, and i is the object you want to iterate over. The v can be swapped out for anything, not just `key`"
   ]
  },
  {
   "cell_type": "code",
   "execution_count": 17,
   "id": "0dd8120a",
   "metadata": {},
   "outputs": [
    {
     "name": "stdout",
     "output_type": "stream",
     "text": [
      "name = eddie\n",
      "age = 24\n"
     ]
    }
   ],
   "source": [
    "for (let x in iPer) {\n",
    "    console.log(x + ' = ' + iPer[x]);\n",
    "}"
   ]
  },
  {
   "cell_type": "markdown",
   "id": "0d0e8163",
   "metadata": {},
   "source": [
    "## For Of\n"
   ]
  },
  {
   "cell_type": "markdown",
   "id": "01abba52",
   "metadata": {},
   "source": [
    "---\n",
    "## Infinite loops\n",
    "When running loops you can accidenly run into code that creates an infinate loop, which will cauase your code to crash. This loop does exactly what it says on the tin. An example is shown below"
   ]
  },
  {
   "cell_type": "code",
   "execution_count": 10,
   "id": "d3f6e816",
   "metadata": {},
   "outputs": [
    {
     "name": "stdout",
     "output_type": "stream",
     "text": [
      "0\n",
      "1\n",
      "2\n",
      "3\n",
      "4\n"
     ]
    },
    {
     "data": {
      "text/plain": [
       "4"
      ]
     },
     "execution_count": 10,
     "metadata": {},
     "output_type": "execute_result"
    }
   ],
   "source": [
    "let i = 0;\n",
    "while (i < 5){\n",
    "    console.log(i);\n",
    "    i++; //This is where things can go wrong\n",
    "}"
   ]
  },
  {
   "cell_type": "markdown",
   "id": "fff7cbb5",
   "metadata": {},
   "source": [
    "So in the above function it says that `while i is less that five, print i`. At the end of each loop `i` is increased by one, and therefore this means that the loop will naturally come to end, *however* if we was to commend out the `i++;` then it would not interate. The program would continue to print `0` infinatley. \n",
    "\n",
    "Another good example of this is\n",
    "\n",
    "```JS\n",
    "while(true){\n",
    "}\n",
    "```\n",
    "\n",
    "These are not however just limited to while loops\n",
    "\n",
    "**Do while**\n",
    "```JS\n",
    "let x =0;\n",
    "do {\n",
    "    // x++;\n",
    "} while (x < 5);\n",
    "```\n",
    "\n",
    "**For**\n",
    "```JS\n",
    "for (let i=0; i > 0; i++)\n",
    "```"
   ]
  },
  {
   "cell_type": "code",
   "execution_count": null,
   "id": "3d39fc0b",
   "metadata": {},
   "outputs": [],
   "source": []
  }
 ],
 "metadata": {
  "kernelspec": {
   "display_name": "JavaScript (Node.js)",
   "language": "javascript",
   "name": "javascript"
  },
  "language_info": {
   "file_extension": ".js",
   "mimetype": "application/javascript",
   "name": "javascript",
   "version": "18.10.0"
  }
 },
 "nbformat": 4,
 "nbformat_minor": 5
}
