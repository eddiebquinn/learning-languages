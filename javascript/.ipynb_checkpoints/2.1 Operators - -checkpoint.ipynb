{
 "cells": [
  {
   "cell_type": "markdown",
   "id": "c5ad0075",
   "metadata": {},
   "source": [
    "# Operators\n",
    "Operators are used to manipulate data into expressions, these expressions can be passed into logic trees and help made algorythms. In JS there five main types of operators, all of which are listed and explaied in the headings below."
   ]
  },
  {
   "cell_type": "markdown",
   "id": "b9d53a83",
   "metadata": {},
   "source": [
    "## Arithmetic\n",
    "Arithemtic operators are used for performing calulations, and operate simmilar to python operators. In javascript when to variables are used together in conjunction with an operator, this is called an expression."
   ]
  },
  {
   "cell_type": "code",
   "execution_count": 1,
   "id": "53c25a08",
   "metadata": {},
   "outputs": [],
   "source": [
    "let Ax = 10;\n",
    "let Ay = 3;"
   ]
  },
  {
   "cell_type": "markdown",
   "id": "8023ca30",
   "metadata": {},
   "source": [
    "**Addition operator**"
   ]
  },
  {
   "cell_type": "code",
   "execution_count": 2,
   "id": "501b9d80",
   "metadata": {},
   "outputs": [
    {
     "name": "stdout",
     "output_type": "stream",
     "text": [
      "13\n"
     ]
    }
   ],
   "source": [
    "console.log(Ax + Ay);"
   ]
  },
  {
   "cell_type": "markdown",
   "id": "0f5e3594",
   "metadata": {},
   "source": [
    "**Subtraction operator**"
   ]
  },
  {
   "cell_type": "code",
   "execution_count": 3,
   "id": "051f9b72",
   "metadata": {},
   "outputs": [
    {
     "name": "stdout",
     "output_type": "stream",
     "text": [
      "7\n"
     ]
    }
   ],
   "source": [
    "console.log(Ax - Ay);"
   ]
  },
  {
   "cell_type": "markdown",
   "id": "4fabb820",
   "metadata": {},
   "source": [
    "**Multiplication operator**"
   ]
  },
  {
   "cell_type": "code",
   "execution_count": 4,
   "id": "cd69bbd9",
   "metadata": {},
   "outputs": [
    {
     "name": "stdout",
     "output_type": "stream",
     "text": [
      "30\n"
     ]
    }
   ],
   "source": [
    "console.log(Ax * Ay);"
   ]
  },
  {
   "cell_type": "markdown",
   "id": "40845797",
   "metadata": {},
   "source": [
    "**Division**"
   ]
  },
  {
   "cell_type": "code",
   "execution_count": 5,
   "id": "bc8754e7",
   "metadata": {},
   "outputs": [
    {
     "name": "stdout",
     "output_type": "stream",
     "text": [
      "3.3333333333333335\n"
     ]
    }
   ],
   "source": [
    "console.log(Ax / Ay);"
   ]
  },
  {
   "cell_type": "markdown",
   "id": "4a3f9eb4",
   "metadata": {},
   "source": [
    "**Remainder of Division**"
   ]
  },
  {
   "cell_type": "code",
   "execution_count": null,
   "id": "03086c05",
   "metadata": {
    "collapsed": true
   },
   "outputs": [],
   "source": []
  },
  {
   "cell_type": "markdown",
   "id": "38bf8580",
   "metadata": {},
   "source": [
    "## Assignment"
   ]
  },
  {
   "cell_type": "markdown",
   "id": "961ed9ee",
   "metadata": {},
   "source": [
    "## Comparison"
   ]
  },
  {
   "cell_type": "markdown",
   "id": "9d49d2dc",
   "metadata": {},
   "source": [
    "## Logical"
   ]
  },
  {
   "cell_type": "markdown",
   "id": "88e7f41f",
   "metadata": {},
   "source": [
    "## Bitwise"
   ]
  },
  {
   "cell_type": "code",
   "execution_count": null,
   "id": "babdaf40",
   "metadata": {},
   "outputs": [],
   "source": []
  }
 ],
 "metadata": {
  "kernelspec": {
   "display_name": "JavaScript (Node.js)",
   "language": "javascript",
   "name": "javascript"
  },
  "language_info": {
   "file_extension": ".js",
   "mimetype": "application/javascript",
   "name": "javascript",
   "version": "18.10.0"
  }
 },
 "nbformat": 4,
 "nbformat_minor": 5
}
