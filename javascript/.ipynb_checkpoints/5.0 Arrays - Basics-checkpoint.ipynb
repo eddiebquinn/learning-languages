{
 "cells": [
  {
   "cell_type": "markdown",
   "id": "8c4bea6f",
   "metadata": {},
   "source": [
    "# Arrays\n",
    "Arrays in JS are functionally simmilar to that of python, given they are a vector that can hold many values in a static order. These values can be of any time or object. Due to the simmilarities I am going to skip over the basics on how to add/remove/find things in these arrays, unless they are interesting or I didn't know them"
   ]
  },
  {
   "cell_type": "markdown",
   "id": "f7a4b59b",
   "metadata": {},
   "source": [
    "## Finding elements (Refrence types)\n",
    "The way to find an primative inside an array in JS is easy enough, you simply pass in the value and the `includes()` method will return the index of that object. Howevever with refrence types this is less simple because they dont hold the object itself, only the memory pointer.\n",
    "\n",
    "This is demonstrated below"
   ]
  },
  {
   "cell_type": "code",
   "execution_count": 1,
   "id": "c2dbb27b",
   "metadata": {},
   "outputs": [],
   "source": [
    "const courses = [\n",
    "    {id:1, name:\"a\"},\n",
    "    {id:2, name:\"b\"}\n",
    "    \n",
    "];"
   ]
  },
  {
   "cell_type": "code",
   "execution_count": 2,
   "id": "ec6ce204",
   "metadata": {},
   "outputs": [
    {
     "name": "stdout",
     "output_type": "stream",
     "text": [
      "false\n"
     ]
    }
   ],
   "source": [
    "console.log(courses.includes({id:1, name:'a'}));"
   ]
  },
  {
   "cell_type": "markdown",
   "id": "fa78676a",
   "metadata": {},
   "source": [
    "Even though the object were searching for holds the exact same data as the first element of courses, semanitcally they are not the same because they are held in diffrent memory pointers."
   ]
  },
  {
   "cell_type": "markdown",
   "id": "766afad4",
   "metadata": {},
   "source": [
    "Instead we use the `find()` or `findIndex()` method. This is shown below"
   ]
  },
  {
   "cell_type": "code",
   "execution_count": 3,
   "id": "095be7fe",
   "metadata": {},
   "outputs": [
    {
     "name": "stdout",
     "output_type": "stream",
     "text": [
      "{ id: 1, name: 'a' }\n"
     ]
    }
   ],
   "source": [
    "let course = courses.find(function(course){return course.id === 1});\n",
    "console.log(course);"
   ]
  },
  {
   "cell_type": "code",
   "execution_count": 4,
   "id": "1c2947e8",
   "metadata": {},
   "outputs": [
    {
     "name": "stdout",
     "output_type": "stream",
     "text": [
      "0\n"
     ]
    }
   ],
   "source": [
    "let courseIndex = courses.findIndex(function(course){return course.id === 1});\n",
    "console.log(courseIndex);"
   ]
  },
  {
   "cell_type": "markdown",
   "id": "acc6acdf",
   "metadata": {},
   "source": [
    "The above two examples use a callback function to achieve this. In this example the function is where it says `function(course){return course.id === 1}`. "
   ]
  },
  {
   "cell_type": "markdown",
   "id": "781c8446",
   "metadata": {},
   "source": [
    "## Arrow functions\n",
    "Whenever you want to pass a function to be a callback function, you can use the arrow function syntax. This is a tidier and better way to achieve what we did above. \n",
    "\n",
    "To explain, we will take one of the functions we had above, and change it to use array function syntax."
   ]
  },
  {
   "cell_type": "code",
   "execution_count": 5,
   "id": "6296e7ad",
   "metadata": {},
   "outputs": [
    {
     "name": "stdout",
     "output_type": "stream",
     "text": [
      "{ id: 1, name: 'a' }\n"
     ]
    }
   ],
   "source": [
    "let course_r1 = courses.find(function(course){return course.id === 1});\n",
    "console.log(course);"
   ]
  },
  {
   "cell_type": "markdown",
   "id": "630038ec",
   "metadata": {},
   "source": [
    "The function below performs the same job as the one above"
   ]
  },
  {
   "cell_type": "code",
   "execution_count": null,
   "id": "7b93ac5f",
   "metadata": {},
   "outputs": [],
   "source": [
    "let course_r2 = course.find(course) => course.id === 1);"
   ]
  }
 ],
 "metadata": {
  "kernelspec": {
   "display_name": "JavaScript (Node.js)",
   "language": "javascript",
   "name": "javascript"
  },
  "language_info": {
   "file_extension": ".js",
   "mimetype": "application/javascript",
   "name": "javascript",
   "version": "18.7.0"
  }
 },
 "nbformat": 4,
 "nbformat_minor": 5
}
