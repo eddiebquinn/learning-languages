{
 "cells": [
  {
   "cell_type": "markdown",
   "id": "f693beed",
   "metadata": {},
   "source": [
    "# Objects - Basics\n",
    "Objects are collection of key value pairs, when you have a set of variables are highly related you will want to group them together into one object. An example of this is shown below"
   ]
  },
  {
   "cell_type": "code",
   "execution_count": 1,
   "id": "99ed2967",
   "metadata": {},
   "outputs": [],
   "source": [
    "let c_radius = 1;\n",
    "let x = 1;\n",
    "let y = 1;"
   ]
  },
  {
   "cell_type": "markdown",
   "id": "0f2d5aba",
   "metadata": {},
   "source": [
    "All of the above variables *can* be put into seperate variables, however given they are all directly related to a circle, it makes more sense to group them into one object called \"circle\""
   ]
  },
  {
   "cell_type": "code",
   "execution_count": 2,
   "id": "dd7ea324",
   "metadata": {},
   "outputs": [],
   "source": [
    "let circle = {\n",
    "    radius: 1,\n",
    "    location: {\n",
    "        x:1,\n",
    "        y:1}\n",
    "};"
   ]
  },
  {
   "cell_type": "markdown",
   "id": "c40bc10a",
   "metadata": {},
   "source": [
    "Another important thing to note about Objects is that while you can group together variables, allot of the time you will want functions that can work on these variables. For example in out circle object we may want a function that moves the location called `move()`. We can make it a stand alone function, but given it directly operates on this object it makes more sense to embed it"
   ]
  },
  {
   "cell_type": "code",
   "execution_count": 3,
   "id": "70166bba",
   "metadata": {},
   "outputs": [],
   "source": [
    "let square = {\n",
    "    size: 1,\n",
    "    location: {\n",
    "        x:1,\n",
    "        y:1\n",
    "    },\n",
    "    draw: function draw() {\n",
    "        console.log(\"This would be a picture of the square\");\n",
    "    }\n",
    "};"
   ]
  },
  {
   "cell_type": "code",
   "execution_count": 4,
   "id": "ef4a08c6",
   "metadata": {},
   "outputs": [
    {
     "name": "stdout",
     "output_type": "stream",
     "text": [
      "This would be a picture of the square\n"
     ]
    }
   ],
   "source": [
    "square.draw();"
   ]
  },
  {
   "cell_type": "markdown",
   "id": "2ce76c9e",
   "metadata": {},
   "source": [
    "This is just an expanded knoweldge on what I have already made notes on, however this method of making objects so far is how you make an `object literal` object. There are better ways to do it, and this is what this section will cover."
   ]
  },
  {
   "cell_type": "markdown",
   "id": "e3e7ff9a",
   "metadata": {},
   "source": [
    "## Dynamic nature of objects\n",
    "One thing tha needs to be understood about objects in JS, is that they are dynamic. The attributes and methods of an object are subject to change. Examples of this are shown below"
   ]
  },
  {
   "cell_type": "code",
   "execution_count": 5,
   "id": "6acd9085",
   "metadata": {},
   "outputs": [],
   "source": [
    "const person = {\n",
    "    name: \"Eddie\",\n",
    "    age: 24\n",
    "};"
   ]
  },
  {
   "cell_type": "markdown",
   "id": "e74547ca",
   "metadata": {},
   "source": [
    "Suppose I have my birthday and I become 25, i would update it like this"
   ]
  },
  {
   "cell_type": "code",
   "execution_count": 6,
   "id": "0dfaa7c3",
   "metadata": {},
   "outputs": [
    {
     "name": "stdout",
     "output_type": "stream",
     "text": [
      "24\n",
      "25\n"
     ]
    }
   ],
   "source": [
    "console.log(person.age);\n",
    "person.age = 25;\n",
    "console.log(person.age);"
   ]
  },
  {
   "cell_type": "markdown",
   "id": "1d90bf9b",
   "metadata": {},
   "source": [
    "You can also add attributes like this"
   ]
  },
  {
   "cell_type": "code",
   "execution_count": 7,
   "id": "36122f84",
   "metadata": {},
   "outputs": [
    {
     "name": "stdout",
     "output_type": "stream",
     "text": [
      "IT nerd\n"
     ]
    }
   ],
   "source": [
    "person.job = \"IT nerd\";\n",
    "console.log(person.job);"
   ]
  },
  {
   "cell_type": "markdown",
   "id": "35128b4d",
   "metadata": {},
   "source": [
    "You can delete like this"
   ]
  },
  {
   "cell_type": "code",
   "execution_count": 8,
   "id": "99e0c893",
   "metadata": {},
   "outputs": [
    {
     "name": "stdout",
     "output_type": "stream",
     "text": [
      "{ name: 'Eddie', age: 25, job: 'IT nerd' }\n",
      "{ name: 'Eddie', age: 25 }\n"
     ]
    }
   ],
   "source": [
    "console.log(person);\n",
    "delete person.job;\n",
    "console.log(person);"
   ]
  }
 ],
 "metadata": {
  "kernelspec": {
   "display_name": "JavaScript (Node.js)",
   "language": "javascript",
   "name": "javascript"
  },
  "language_info": {
   "file_extension": ".js",
   "mimetype": "application/javascript",
   "name": "javascript",
   "version": "18.7.0"
  }
 },
 "nbformat": 4,
 "nbformat_minor": 5
}
