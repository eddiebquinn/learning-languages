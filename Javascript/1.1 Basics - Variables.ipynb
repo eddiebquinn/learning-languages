{
 "cells": [
  {
   "cell_type": "markdown",
   "id": "8ec2da3a",
   "metadata": {},
   "source": [
    "# Variables\n",
    "\n",
    "In previous version so JS when you initiated a varable you would use the `var` operator. In modern day javascript it is considered best practise to use `let`. This can be seen below"
   ]
  },
  {
   "cell_type": "code",
   "execution_count": 1,
   "id": "a57cae78",
   "metadata": {},
   "outputs": [
    {
     "name": "stdout",
     "output_type": "stream",
     "text": [
      "undefined\n"
     ]
    }
   ],
   "source": [
    "let undefined_varable;\n",
    "console.log(undefined_varable);"
   ]
  },
  {
   "cell_type": "markdown",
   "id": "5ec430ff",
   "metadata": {},
   "source": [
    "Printing this variable out to the console results in it printing `undefined`. This is because when it was initalised it was not given a value. You can give a variable a value however like this"
   ]
  },
  {
   "cell_type": "code",
   "execution_count": 2,
   "id": "2a25fa92",
   "metadata": {},
   "outputs": [
    {
     "name": "stdout",
     "output_type": "stream",
     "text": [
      "Hello world\n"
     ]
    }
   ],
   "source": [
    "let string_variable = \"Hello world\";\n",
    "console.log(string_variable);"
   ]
  },
  {
   "cell_type": "markdown",
   "id": "ea434c06",
   "metadata": {},
   "source": [
    "# Constants\n",
    "There are sometimes when you set a varaiable but you dont want it to change, when you want to do that you would use `cont` rather than `let`"
   ]
  },
  {
   "cell_type": "code",
   "execution_count": 3,
   "id": "c7052144",
   "metadata": {},
   "outputs": [],
   "source": [
    "const dob = 200489;"
   ]
  },
  {
   "cell_type": "markdown",
   "id": "dcbb0a9d",
   "metadata": {},
   "source": [
    "Now that that constant has been set, it cannot be over written. This is shown below"
   ]
  },
  {
   "cell_type": "code",
   "execution_count": 4,
   "id": "0e9a4733",
   "metadata": {},
   "outputs": [
    {
     "ename": "TypeError",
     "evalue": "Assignment to constant variable.",
     "output_type": "error",
     "traceback": [
      "evalmachine.<anonymous>:1",
      "dob = 181278;",
      "    ^",
      "",
      "TypeError: Assignment to constant variable.",
      "    at evalmachine.<anonymous>:1:5",
      "    at Script.runInThisContext (vm.js:120:18)",
      "    at Object.runInThisContext (vm.js:309:38)",
      "    at run ([eval]:1020:15)",
      "    at onRunRequest ([eval]:864:18)",
      "    at onMessage ([eval]:828:13)",
      "    at process.emit (events.js:314:20)",
      "    at emit (internal/child_process.js:877:12)",
      "    at processTicksAndRejections (internal/process/task_queues.js:85:21)"
     ]
    }
   ],
   "source": [
    "dob = 181278;"
   ]
  }
 ],
 "metadata": {
  "kernelspec": {
   "display_name": "JavaScript (Node.js)",
   "language": "javascript",
   "name": "javascript"
  },
  "language_info": {
   "file_extension": ".js",
   "mimetype": "application/javascript",
   "name": "javascript",
   "version": "18.10.0"
  }
 },
 "nbformat": 4,
 "nbformat_minor": 5
}
