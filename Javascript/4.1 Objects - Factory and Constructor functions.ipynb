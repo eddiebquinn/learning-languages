{
 "cells": [
  {
   "cell_type": "markdown",
   "id": "987dd78e",
   "metadata": {},
   "source": [
    "# Objects - Factory and Constructor functions"
   ]
  },
  {
   "cell_type": "markdown",
   "id": "cd2a4524",
   "metadata": {},
   "source": [
    "Created object literal type objects is a quick and dirty way to do it, but it presents a problem (which i ran into in the previous section).\n",
    "\n",
    "Lets suppose I want to make two circle objects, i can copy the code but this isnt not a good way to do it. It breaks one of the fundemental rules of coding which is \"Don't Repeat Yourself\". This is where factory & constructor functions come in."
   ]
  },
  {
   "cell_type": "markdown",
   "id": "213d9ce0",
   "metadata": {},
   "source": [
    "## Factory functions\n",
    "A factory function is a function that produces an object. An example is shown below"
   ]
  },
  {
   "cell_type": "code",
   "execution_count": 1,
   "id": "3a176ab2",
   "metadata": {},
   "outputs": [],
   "source": [
    "function createCircle(radius=1) {   \n",
    "    return {\n",
    "        // In JS if the key and value are the same you can just put the key, this translates to radius:radius\n",
    "        radius, \n",
    "        \n",
    "        // Simmilar can be done for the draw function, as shown below, we simply drop the key and function keyword\n",
    "        draw () {\n",
    "            console.log(\"draw\");\n",
    "        }\n",
    "    };\n",
    "}"
   ]
  },
  {
   "cell_type": "markdown",
   "id": "aad44d34",
   "metadata": {},
   "source": [
    "Now we have a fcatory function, we can call this to create a cricle"
   ]
  },
  {
   "cell_type": "code",
   "execution_count": 2,
   "id": "200cd8db",
   "metadata": {},
   "outputs": [
    {
     "name": "stdout",
     "output_type": "stream",
     "text": [
      "draw\n"
     ]
    }
   ],
   "source": [
    "const factory_circle = createCircle();\n",
    "factory_circle.draw();"
   ]
  },
  {
   "cell_type": "markdown",
   "id": "429ce3f8",
   "metadata": {},
   "source": [
    "## Constructor functions\n",
    "Constructor functions are the other key way to create objects in JS. Example is shown below."
   ]
  },
  {
   "cell_type": "code",
   "execution_count": 3,
   "id": "bfbd4954",
   "metadata": {},
   "outputs": [],
   "source": [
    "// The naming convetion for constructor functions is diffrent from factory functions.\n",
    "// We write it is pascal case rather than camel\n",
    "\n",
    "function Circle(radius=1) {\n",
    "    \n",
    "    // This is a refrence to the object that is exectuing this peice of code\n",
    "    this.radius = radius;\n",
    "    this.draw = function () {\n",
    "        console.log('draw');\n",
    "    }\n",
    "}"
   ]
  },
  {
   "cell_type": "code",
   "execution_count": 4,
   "id": "8aa3f8dc",
   "metadata": {},
   "outputs": [
    {
     "name": "stdout",
     "output_type": "stream",
     "text": [
      "draw\n"
     ]
    }
   ],
   "source": [
    "const Con_circle = new Circle(1);\n",
    "Con_circle.draw();"
   ]
  },
  {
   "cell_type": "markdown",
   "id": "415a45d5",
   "metadata": {},
   "source": [
    "## Constructor properties\n",
    "Every object in JS has property called constructor, that refrences the function that was used to create the function. We can use the previous objects we have made to examine this"
   ]
  },
  {
   "cell_type": "code",
   "execution_count": 5,
   "id": "fd6e3f9f",
   "metadata": {},
   "outputs": [
    {
     "name": "stdout",
     "output_type": "stream",
     "text": [
      "[Function: Object]\n",
      "[Function: Circle]\n"
     ]
    }
   ],
   "source": [
    "console.log(factory_circle.constructor);\n",
    "console.log(Con_circle.constructor);"
   ]
  },
  {
   "cell_type": "markdown",
   "id": "0a9b08ee",
   "metadata": {},
   "source": []
  },
  {
   "cell_type": "code",
   "execution_count": null,
   "id": "800ee0e3",
   "metadata": {},
   "outputs": [],
   "source": []
  }
 ],
 "metadata": {
  "kernelspec": {
   "display_name": "JavaScript (Node.js)",
   "language": "javascript",
   "name": "javascript"
  },
  "language_info": {
   "file_extension": ".js",
   "mimetype": "application/javascript",
   "name": "javascript",
   "version": "18.7.0"
  }
 },
 "nbformat": 4,
 "nbformat_minor": 5
}
