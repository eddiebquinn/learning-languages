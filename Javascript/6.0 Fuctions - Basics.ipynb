{
 "cells": [
  {
   "cell_type": "markdown",
   "id": "78637073",
   "metadata": {},
   "source": [
    "# Functions\n",
    "Functions are a universal concept in almost every programing language, and becasue of that im not going to detail every facet of functions in JS. Anything i do make notes on here are things that I either do not know, or i find interesting~"
   ]
  },
  {
   "cell_type": "markdown",
   "id": "3c9a45be",
   "metadata": {},
   "source": [
    "## Hoisting"
   ]
  },
  {
   "cell_type": "markdown",
   "id": "b8b07135",
   "metadata": {},
   "source": [
    "Assume you have a JS file that details the following"
   ]
  },
  {
   "cell_type": "code",
   "execution_count": 1,
   "id": "d1f3eb21",
   "metadata": {},
   "outputs": [
    {
     "name": "stdout",
     "output_type": "stream",
     "text": [
      "walking\n"
     ]
    },
    {
     "ename": "ReferenceError",
     "evalue": "Cannot access 'run' before initialization",
     "output_type": "error",
     "traceback": [
      "evalmachine.<anonymous>:2",
      "run();",
      "^",
      "",
      "ReferenceError: Cannot access 'run' before initialization",
      "    at evalmachine.<anonymous>:2:1",
      "    at Script.runInThisContext (node:vm:129:12)",
      "    at Object.runInThisContext (node:vm:313:38)",
      "    at run ([eval]:1020:15)",
      "    at onRunRequest ([eval]:864:18)",
      "    at onMessage ([eval]:828:13)",
      "    at process.emit (node:events:513:28)",
      "    at emit (node:internal/child_process:937:14)",
      "    at process.processTicksAndRejections (node:internal/process/task_queues:83:21)"
     ]
    }
   ],
   "source": [
    "walk();\n",
    "run();\n",
    "\n",
    "function walk(){\n",
    "    console.log(\"walking\");\n",
    "}\n",
    "\n",
    "const run = function(){\n",
    "    console.log(\"running\");\n",
    "}"
   ]
  },
  {
   "cell_type": "markdown",
   "id": "44ce3bcb",
   "metadata": {},
   "source": [
    "Notice how it succsessfully calls the `walk` function not `run`. The resaon for this is a concept called hoisting, in JS before a file is run all functions are moved to the top of the file so they are saved before hand. This is why can be executed before the function has been asigned. This however does not happen for run, because run is technically a variable."
   ]
  },
  {
   "cell_type": "code",
   "execution_count": null,
   "id": "9bffbabb",
   "metadata": {},
   "outputs": [],
   "source": []
  }
 ],
 "metadata": {
  "kernelspec": {
   "display_name": "JavaScript (Node.js)",
   "language": "javascript",
   "name": "javascript"
  },
  "language_info": {
   "file_extension": ".js",
   "mimetype": "application/javascript",
   "name": "javascript",
   "version": "18.7.0"
  }
 },
 "nbformat": 4,
 "nbformat_minor": 5
}
